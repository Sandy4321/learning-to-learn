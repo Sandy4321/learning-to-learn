{
 "cells": [
  {
   "cell_type": "code",
   "execution_count": null,
   "metadata": {
    "collapsed": true
   },
   "outputs": [],
   "source": [
    "# TODO: update this notebook..."
   ]
  },
  {
   "cell_type": "code",
   "execution_count": null,
   "metadata": {
    "collapsed": true
   },
   "outputs": [],
   "source": [
    "X_train, _ = get_train_data(nb_categories, nb_exemplars, shift_scale=30, seed=5, target_size=(500,500))"
   ]
  },
  {
   "cell_type": "code",
   "execution_count": null,
   "metadata": {
    "collapsed": true
   },
   "outputs": [],
   "source": [
    "fig, axes = plt.subplots(nrows=5, ncols=3, figsize=(5,8))\n",
    "#inds = np.random.choice(range(nb_categories), 5, replace=False)\n",
    "inds = [34, 9, 14, 38, 20]\n",
    "for i, ix in enumerate(inds):\n",
    "    for j in range(3):\n",
    "        axes[i,j].imshow(X_train[ix*nb_exemplars+j,:,:,:3], vmin=0, vmax=1)\n",
    "        axes[i,j].axis('off')\n",
    "plt.show()"
   ]
  },
  {
   "cell_type": "code",
   "execution_count": null,
   "metadata": {
    "collapsed": true
   },
   "outputs": [],
   "source": [
    "inds = [116, 40, 58, 149]\n",
    "fig, axes = plt.subplots(nrows=2, ncols=2, figsize=(4, 4))\n",
    "for i in range(2):\n",
    "    for j in range(2):\n",
    "        ix = inds[i*2 + j]\n",
    "        axes[i,j].imshow(X_train[ix,:,:,3], cmap='gray', vmin=0, vmax=1)\n",
    "        axes[i,j].axis('off')\n",
    "#plt.show()\n",
    "plt.savefig(\n",
    "    '../../cogsci-paper/figures/textures.pdf',\n",
    "    format='pdf',\n",
    "    bbox_inches='tight'\n",
    ")"
   ]
  }
 ],
 "metadata": {
  "kernelspec": {
   "display_name": "Python 3",
   "language": "python",
   "name": "python3"
  },
  "language_info": {
   "codemirror_mode": {
    "name": "ipython",
    "version": 3
   },
   "file_extension": ".py",
   "mimetype": "text/x-python",
   "name": "python",
   "nbconvert_exporter": "python",
   "pygments_lexer": "ipython3",
   "version": "3.6.1"
  }
 },
 "nbformat": 4,
 "nbformat_minor": 2
}
