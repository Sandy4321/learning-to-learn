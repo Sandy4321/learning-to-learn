{
 "cells": [
  {
   "cell_type": "code",
   "execution_count": 163,
   "metadata": {
    "collapsed": true
   },
   "outputs": [],
   "source": [
    "from __future__ import division, print_function\n",
    "import numpy as np\n",
    "from random import randint\n",
    "import cv2\n",
    "%matplotlib inline\n",
    "import matplotlib as mpl\n",
    "import matplotlib.pylab as plt\n",
    "from matplotlib.patches import Polygon\n",
    "from matplotlib.patches import Arc, Arrow, Circle, CirclePolygon, Ellipse, Rectangle, Wedge\n",
    "\n",
    "from learning2learn.images import rearrange_points"
   ]
  },
  {
   "cell_type": "code",
   "execution_count": null,
   "metadata": {
    "collapsed": true
   },
   "outputs": [],
   "source": [
    "class Texture():\n",
    "    \"\"\"\n",
    "    TODO\n",
    "    \"\"\"\n",
    "    def __init__(self, shape, size, frequency, color):\n",
    "        self.shape = shape\n",
    "        self.size = size\n",
    "        self."
   ]
  },
  {
   "cell_type": "code",
   "execution_count": 8,
   "metadata": {
    "collapsed": true
   },
   "outputs": [],
   "source": [
    "def generate_random_shape(x_min, x_max, y_min, y_max, x_offset, y_offset):\n",
    "    \"\"\"\n",
    "\n",
    "    :param x_min:\n",
    "    :param x_max:\n",
    "    :param y_min:\n",
    "    :param y_max:\n",
    "    :param x_offset:\n",
    "    :param y_offset:\n",
    "    :return:\n",
    "    \"\"\"\n",
    "    x = np.random.uniform(x_min, x_max - x_offset)\n",
    "    y = np.random.uniform(y_min, y_max - y_offset)\n",
    "    points = [(np.random.uniform(x, x + x_offset),\n",
    "               np.random.uniform(y, y + y_offset)) for _ in\n",
    "              range(randint(3, 10))]\n",
    "    points = rearrange_points(points)\n",
    "    return points"
   ]
  },
  {
   "cell_type": "code",
   "execution_count": 3,
   "metadata": {
    "collapsed": true
   },
   "outputs": [],
   "source": [
    "def generate_image(shape, color, texture, save_file=None):\n",
    "    \"\"\"\n",
    "\n",
    "    :param shape:\n",
    "    :param color:\n",
    "    :param texture:\n",
    "    :param save_file:\n",
    "    :return:\n",
    "    \"\"\"\n",
    "    # Plot figure\n",
    "    fig = plt.figure(figsize=(4, 4))\n",
    "    ax = fig.add_subplot(111)\n",
    "    # Lay the baseline color\n",
    "    polygon = Polygon(shape, closed=True, fill=True, color=color)\n",
    "    obj = ax.add_patch(polygon)\n",
    "    # Lay the texture hatch\n",
    "    polygon_h = Polygon(shape, closed=True, fill=False, color=(0, 0, 0))\n",
    "    obj_h = ax.add_patch(polygon_h)\n",
    "    obj_h.set_hatch(texture)\n",
    "    plt.ylim([-2,2])\n",
    "    plt.xlim([-2,2])\n",
    "    plt.axis('off')\n",
    "    plt.show()\n",
    "    #fig.savefig(save_file)"
   ]
  },
  {
   "cell_type": "code",
   "execution_count": 30,
   "metadata": {
    "collapsed": true
   },
   "outputs": [],
   "source": [
    "shape = generate_random_shape(-2, 2, -2, 2, 4, 4)\n",
    "color = np.random.uniform(0, 1, size=3)"
   ]
  },
  {
   "cell_type": "code",
   "execution_count": 4,
   "metadata": {},
   "outputs": [
    {
     "data": {
      "image/png": "[encoded data removed]",
      "text/plain": [
       "<matplotlib.figure.Figure at 0x10fcae8d0>"
      ]
     },
     "metadata": {},
     "output_type": "display_data"
    }
   ],
   "source": [
    "mpl.rcParams['hatch.linewidth'] = 2\n",
    "texture = '*'\n",
    "generate_image(shape, color, texture)"
   ]
  },
  {
   "cell_type": "code",
   "execution_count": 131,
   "metadata": {},
   "outputs": [],
   "source": [
    "def get_gradient_img(height, width, color, gradient=None):\n",
    "    img = np.zeros(shape=(height, width, 3))\n",
    "    if gradient is None:\n",
    "        # no gradient mask\n",
    "        for i in range(height):\n",
    "            for j in range(width):\n",
    "                img[i,j] = color\n",
    "    elif gradient is 'right':\n",
    "        # rightward gradient mask\n",
    "        for i in range(height):\n",
    "            for j in range(width):\n",
    "                img[i,j] = color*(j/height)\n",
    "    elif gradient is 'left':\n",
    "        # leftward gradient mask\n",
    "        for i in range(height):\n",
    "            for j in range(width):\n",
    "                img[i,j] = color*(1 - j/height)\n",
    "    elif gradient is 'up':\n",
    "        # upward gradient mask\n",
    "        for i in range(height):\n",
    "            for j in range(width):\n",
    "                img[i,j] = color*(1 - i/width)\n",
    "    elif gradient is 'down':\n",
    "        # downward gradient mask\n",
    "        for i in range(height):\n",
    "            for j in range(width):\n",
    "                img[i,j] = color*(i/width)\n",
    "    else:\n",
    "        raise Exception(\"'gradient' must be one of ['right', 'left', 'up', or 'down'].\")\n",
    "    \n",
    "    return img"
   ]
  },
  {
   "cell_type": "code",
   "execution_count": 126,
   "metadata": {},
   "outputs": [],
   "source": [
    "color = np.random.uniform(0, 1, size=3)"
   ]
  },
  {
   "cell_type": "code",
   "execution_count": 164,
   "metadata": {},
   "outputs": [],
   "source": [
    "img = get_gradient_img(500, 500, color)"
   ]
  },
  {
   "cell_type": "code",
   "execution_count": 313,
   "metadata": {},
   "outputs": [],
   "source": [
    "class Texture(object):\n",
    "    def __init__(self, patch_type, params):\n",
    "        assert patch_type in [\n",
    "            'ellipse', 'arc', 'arrow', 'circle',\n",
    "            'rectangle', 'wedge', 'circle_polygon5',\n",
    "            'circle_polygon6', 'circle_polygon7', \n",
    "            'circle_polygon8'\n",
    "        ]\n",
    "        self.patch_type = patch_type\n",
    "        self.params = params\n",
    "        \n",
    "    def get_patch(self, xy):\n",
    "        if self.patch_type == 'circle':\n",
    "            return Circle(\n",
    "                xy, self.params['radius'],\n",
    "                color='black'\n",
    "            )\n",
    "        elif self.patch_type == 'rectangle':\n",
    "            return Rectangle(\n",
    "                xy, self.params['width'],\n",
    "                self.params['height'],\n",
    "                self.params['angle'],\n",
    "                color='black'\n",
    "            )\n",
    "        elif self.patch_type == 'ellipse':\n",
    "            return Ellipse(\n",
    "                xy, self.params['width'],\n",
    "                self.params['height'],\n",
    "                self.params['angle'],\n",
    "                color='black'\n",
    "            )\n",
    "        elif self.patch_type == 'arc':\n",
    "            return Arc(\n",
    "                xy, self.params['width'],\n",
    "                self.params['height'],\n",
    "                self.params['angle'],\n",
    "                color='black'\n",
    "            )\n",
    "        elif self.patch_type.startswith('circle_polygon'):\n",
    "            return CirclePolygon(\n",
    "                xy, self.params['radius'],\n",
    "                self.params['resolution'],\n",
    "                color='black'\n",
    "            )\n",
    "        elif self.patch_type == 'wedge':\n",
    "            return Wedge(\n",
    "                xy, self.params['radius'], 0,\n",
    "                self.params['theta2'],\n",
    "                color='black'\n",
    "            )\n",
    "        elif self.patch_type == 'arrow':\n",
    "            x, y = xy\n",
    "            return Arrow(\n",
    "                x, y, self.params['dx'],\n",
    "                self.params['dy'],\n",
    "                self.params['width'],\n",
    "                color='black'\n",
    "            )\n",
    "\n",
    "def add_texture(ax, patch_type, image_size=500):\n",
    "    assert patch_type in [\n",
    "        'ellipse', 'arc', 'arrow', 'circle',\n",
    "        'rectangle', 'wedge', 'circle_polygon5',\n",
    "        'circle_polygon6', 'circle_polygon7', \n",
    "        'circle_polygon8'\n",
    "    ]\n",
    "    # Patch size will be uniformly sampled. Let's define\n",
    "    # reasonable boundaries here\n",
    "    patch_min_size = int(0.02*image_size)\n",
    "    patch_max_size = int(0.07*image_size)\n",
    "    # Step size (space between patches) will also be \n",
    "    # uniformly sampled. Define boundaries here\n",
    "    step_min_size = int(0.15*image_size)\n",
    "    step_max_size = int(0.3*image_size)\n",
    "    # Now, build the texture object according to the specified type\n",
    "    if patch_type == 'circle':\n",
    "        params = {\n",
    "            'radius': np.random.randint(patch_min_size, patch_max_size)\n",
    "        }\n",
    "    elif patch_type in ['rectangle', 'ellipse', 'arc']:\n",
    "        params = {\n",
    "            'height': np.random.randint(patch_min_size, patch_max_size),\n",
    "            'width': np.random.randint(2*patch_min_size, 2*patch_max_size),\n",
    "            'angle': np.random.randint(0, 181)\n",
    "        }\n",
    "    elif patch_type.startswith('circle_polygon'):\n",
    "        params = {\n",
    "            'radius': np.random.randint(patch_min_size, patch_max_size),\n",
    "        }\n",
    "    elif patch_type == 'wedge':\n",
    "        params = {\n",
    "            'radius': np.random.randint(patch_min_size, patch_max_size),\n",
    "            'theta2': np.random.randint(0, 271)\n",
    "        }\n",
    "    elif patch_type == 'arrow':\n",
    "        params = {\n",
    "            'dx': np.random.randint(-patch_max_size, patch_max_size),\n",
    "            'dy': np.random.randint(-patch_max_size, patch_max_size),\n",
    "            'width': np.random.randint(3*patch_min_size, 3*patch_max_size)\n",
    "        }\n",
    "    \n",
    "    # Now create the texture object instance\n",
    "    texture = Texture(patch_type, params)\n",
    "    \n",
    "    # Now sample the step size and step through the image\n",
    "    # placing the patches at different locations, 'step'\n",
    "    # pixels apart from one another\n",
    "    step = np.random.randint(step_min_size, step_max_size)\n",
    "    for i in range(10, 2*image_size, step):\n",
    "        for j in range(10, 2*image_size, step):\n",
    "            patch = texture.get_patch((i,j))\n",
    "            ax.add_patch(patch)"
   ]
  },
  {
   "cell_type": "code",
   "execution_count": 335,
   "metadata": {},
   "outputs": [
    {
     "data": {
      "image/png": "[encoded data removed]",
      "text/plain": [
       "<matplotlib.figure.Figure at 0x11e0ed550>"
      ]
     },
     "metadata": {},
     "output_type": "display_data"
    }
   ],
   "source": [
    "fig, ax = plt.subplots(1, figsize=(5,5))\n",
    "ax.set_aspect('equal')\n",
    "ax.imshow(\n",
    "    img,\n",
    "    interpolation='bicubic'\n",
    ")\n",
    "add_texture(ax, 'circle_polygon5')\n",
    "#ax.add_patch(Arrow(250, 250, 20, 35, 150))\n",
    "ax.axis('off')\n",
    "plt.show()"
   ]
  },
  {
   "cell_type": "code",
   "execution_count": null,
   "metadata": {
    "collapsed": true
   },
   "outputs": [],
   "source": []
  },
  {
   "cell_type": "code",
   "execution_count": null,
   "metadata": {
    "collapsed": true
   },
   "outputs": [],
   "source": []
  },
  {
   "cell_type": "code",
   "execution_count": 13,
   "metadata": {},
   "outputs": [
    {
     "name": "stdout",
     "output_type": "stream",
     "text": [
      "(1204, 1595, 3)\n"
     ]
    }
   ],
   "source": [
    "# original image\n",
    "# -1 loads as-is so if it will be 3 or 4 channel as the original\n",
    "image = cv2.imread('/Users/reubenfeinman/Desktop/apple.jpg', -1)\n",
    "print(image.shape)"
   ]
  },
  {
   "cell_type": "code",
   "execution_count": 28,
   "metadata": {},
   "outputs": [
    {
     "data": {
      "text/plain": [
       "True"
      ]
     },
     "execution_count": 28,
     "metadata": {},
     "output_type": "execute_result"
    }
   ],
   "source": [
    "# mask defaulting to black for 3-channel and transparent for 4-channel\n",
    "# (of course replace corners with yours)\n",
    "mask = np.zeros(image.shape, dtype=np.uint8)\n",
    "# sample corners of polygon mask\n",
    "shape = generate_random_shape(x_min=0, x_max=1204, y_min=0, y_max=1595, x_offset=1000, y_offset=1000)\n",
    "roi_corners = np.array([shape], dtype=np.int32)\n",
    "# fill the ROI so it doesn't get wiped out when the mask is applied\n",
    "channel_count = image.shape[2]  # i.e. 3 or 4 depending on your image\n",
    "ignore_mask_color = (255,)*channel_count\n",
    "cv2.fillPoly(mask, roi_corners, ignore_mask_color)\n",
    "# from Masterfool: use cv2.fillConvexPoly if you know it's convex\n",
    "\n",
    "# apply the mask\n",
    "masked_image = cv2.bitwise_and(image, mask)\n",
    "\n",
    "# save the result\n",
    "cv2.imwrite('/Users/reubenfeinman/Desktop/image_masked.png', masked_image)"
   ]
  },
  {
   "cell_type": "code",
   "execution_count": null,
   "metadata": {
    "collapsed": true
   },
   "outputs": [],
   "source": []
  }
 ],
 "metadata": {
  "kernelspec": {
   "display_name": "Python 3",
   "language": "python",
   "name": "python3"
  },
  "language_info": {
   "codemirror_mode": {
    "name": "ipython",
    "version": 3
   },
   "file_extension": ".py",
   "mimetype": "text/x-python",
   "name": "python",
   "nbconvert_exporter": "python",
   "pygments_lexer": "ipython3",
   "version": "3.6.1"
  }
 },
 "nbformat": 4,
 "nbformat_minor": 2
}
