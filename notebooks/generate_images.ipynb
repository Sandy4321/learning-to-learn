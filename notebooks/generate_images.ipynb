{
 "cells": [
  {
   "cell_type": "code",
   "execution_count": 1,
   "metadata": {},
   "outputs": [
    {
     "name": "stderr",
     "output_type": "stream",
     "text": [
      "Using TensorFlow backend.\n"
     ]
    }
   ],
   "source": [
    "from __future__ import division, print_function\n",
    "import numpy as np\n",
    "from random import randint\n",
    "%matplotlib inline\n",
    "import matplotlib.pylab as plt\n",
    "import matplotlib.path as mplpath\n",
    "from matplotlib.patches import Polygon\n",
    "from matplotlib.patches import Arc, Arrow, Circle, CirclePolygon, Ellipse, Rectangle, Wedge\n",
    "from keras.preprocessing import image\n",
    "\n",
    "from learning2learn.images import rearrange_points"
   ]
  },
  {
   "cell_type": "code",
   "execution_count": 2,
   "metadata": {
    "collapsed": true
   },
   "outputs": [],
   "source": [
    "def generate_random_shape(x_min, x_max, y_min, y_max, edge_distance):\n",
    "    \"\"\"\n",
    "\n",
    "    :param x_min:\n",
    "    :param x_max:\n",
    "    :param y_min:\n",
    "    :param y_max:\n",
    "    :param x_offset:\n",
    "    :param y_offset:\n",
    "    :return:\n",
    "    \"\"\"\n",
    "    # Sample a number of points for the polygon\n",
    "    nb_points = randint(3, 10)\n",
    "    # 4 'types' of points; determines the edge that the point will be near\n",
    "    point_types = ['left','right','top','bottom'] \n",
    "    # Cycle through drawing points of different types\n",
    "    points = []\n",
    "    for i in range(nb_points):\n",
    "        if point_types[i%4] in ['left', 'right']:\n",
    "            x = np.random.uniform(0, edge_distance)\n",
    "            y = np.clip(\n",
    "                np.random.normal(loc=(y_max-y_min)/2, scale=(y_max-y_min)/8), \n",
    "                y_min, \n",
    "                y_max\n",
    "            )\n",
    "            if point_types[i%4] == 'right':\n",
    "                x = x_max - x\n",
    "        elif point_types[i%4] in ['top', 'bottom']:\n",
    "            x = np.clip(\n",
    "                np.random.normal(loc=(x_max-x_min)/2, scale=(x_max-x_min)/8), \n",
    "                x_min, \n",
    "                x_max\n",
    "            )\n",
    "            y = np.random.uniform(0, edge_distance)\n",
    "            if point_types[i%4] == 'bottom':\n",
    "                y = y_max - y\n",
    "        points.append((x, y))\n",
    "    # Rearrange the points so that they are in the correct order\n",
    "    points = rearrange_points(points)  \n",
    "#     # Now center the points by computing the mean distance\n",
    "#     # from the center and then subtracting this mean\n",
    "#     x_mean = np.mean([p[0] - (x_max-x_min)/2 for p in points])\n",
    "#     y_mean = np.mean([p[1] - (y_max-y_min)/2 for p in points])\n",
    "#     points = [(p[0]-x_mean, p[1]-y_mean) for p in points]\n",
    "    \n",
    "    return points"
   ]
  },
  {
   "cell_type": "code",
   "execution_count": 3,
   "metadata": {
    "collapsed": true
   },
   "outputs": [],
   "source": [
    "def get_gradient(height, width, color, gradient=None):\n",
    "    img = np.zeros(shape=(height, width, 3))\n",
    "    if gradient is None:\n",
    "        # no gradient mask\n",
    "        for i in range(height):\n",
    "            for j in range(width):\n",
    "                img[i,j] = color\n",
    "    elif gradient is 'right':\n",
    "        # rightward gradient mask\n",
    "        for i in range(height):\n",
    "            for j in range(width):\n",
    "                img[i,j] = color*(j/width)\n",
    "    elif gradient is 'left':\n",
    "        # leftward gradient mask\n",
    "        for i in range(height):\n",
    "            for j in range(width):\n",
    "                img[i,j] = color*(1 - j/width)\n",
    "    elif gradient is 'up':\n",
    "        # upward gradient mask\n",
    "        for i in range(height):\n",
    "            for j in range(width):\n",
    "                img[i,j] = color*(1 - i/height)\n",
    "    elif gradient is 'down':\n",
    "        # downward gradient mask\n",
    "        for i in range(height):\n",
    "            for j in range(width):\n",
    "                img[i,j] = color*(i/height)\n",
    "    else:\n",
    "        raise Exception(\"'gradient' must be one of ['right', 'left', 'up', or 'down'].\")\n",
    "    \n",
    "    return img\n",
    "\n",
    "def get_gradient1(height, width, color, shape, gradient=None):\n",
    "    assert gradient in ['left', 'right', 'up', 'down', None]\n",
    "    # initialize image and mask\n",
    "    img = np.zeros(shape=(height, width, 3))\n",
    "    mask = np.ones(shape=(height, width, 3))\n",
    "    # find box window of the shape\n",
    "    x_min = int(min([s[0] for s in shape]))\n",
    "    x_max = int(max([s[0] for s in shape]))\n",
    "    y_min = int(min([s[1] for s in shape]))\n",
    "    y_max = int(max([s[1] for s in shape]))\n",
    "    dx = x_max - x_min\n",
    "    dy = y_max - y_min\n",
    "    # Step through and determine mask at each pixel\n",
    "    # in our shape window\n",
    "    for i in range(dy):\n",
    "        for j in range(dx):\n",
    "            if gradient == 'right':\n",
    "                mask[y_min+i, x_min+j] = j/dx\n",
    "            elif gradient == 'left':\n",
    "                mask[y_min+i, x_min+j] = 1 - j/dx\n",
    "            elif gradient == 'up':\n",
    "                mask[y_min+i, x_min+j] = 1 - i/dy\n",
    "            elif gradient == 'down':\n",
    "                mask[y_min+i, x_min+j] = i/dy\n",
    "    \n",
    "    # Now step through and apply the mask\n",
    "    for i in range(height):\n",
    "        for j in range(width):\n",
    "            img[i,j] = mask[i,j]*color\n",
    "    \n",
    "    return img"
   ]
  },
  {
   "cell_type": "code",
   "execution_count": 31,
   "metadata": {
    "collapsed": true
   },
   "outputs": [],
   "source": [
    "class Texture(object):\n",
    "    def __init__(self, patch_type, gradient, step=None, params=None):\n",
    "        assert patch_type in [\n",
    "            'ellipse', 'arc', 'arrow', 'circle',\n",
    "            'rectangle', 'wedge', 'circle_polygon5',\n",
    "            'circle_polygon6', 'circle_polygon7', \n",
    "            'circle_polygon8'\n",
    "        ]\n",
    "        self.patch_type = patch_type\n",
    "        self.gradient = gradient\n",
    "        self.step = step\n",
    "        self.params = params\n",
    "        \n",
    "    def get_patch(self, xy):\n",
    "        if self.patch_type == 'circle':\n",
    "            return Circle(\n",
    "                xy, self.params['radius'],\n",
    "                color='black'\n",
    "            )\n",
    "        elif self.patch_type == 'rectangle':\n",
    "            return Rectangle(\n",
    "                xy, self.params['width'],\n",
    "                self.params['height'],\n",
    "                self.params['angle'],\n",
    "                color='black'\n",
    "            )\n",
    "        elif self.patch_type == 'ellipse':\n",
    "            return Ellipse(\n",
    "                xy, self.params['width'],\n",
    "                self.params['height'],\n",
    "                self.params['angle'],\n",
    "                color='black'\n",
    "            )\n",
    "        elif self.patch_type == 'arc':\n",
    "            return Arc(\n",
    "                xy, self.params['width'],\n",
    "                self.params['height'],\n",
    "                self.params['angle'],\n",
    "                color='black'\n",
    "            )\n",
    "        elif self.patch_type.startswith('circle_polygon'):\n",
    "            resolution = int(self.patch_type[-1])\n",
    "            return CirclePolygon(\n",
    "                xy, self.params['radius'],\n",
    "                resolution,\n",
    "                color='black'\n",
    "            )\n",
    "        elif self.patch_type == 'wedge':\n",
    "            return Wedge(\n",
    "                xy, self.params['radius'], 0,\n",
    "                self.params['theta2'],\n",
    "                color='black'\n",
    "            )\n",
    "        elif self.patch_type == 'arrow':\n",
    "            x, y = xy\n",
    "            return Arrow(\n",
    "                x, y, self.params['dx'],\n",
    "                self.params['dy'],\n",
    "                self.params['width'],\n",
    "                color='black'\n",
    "            )\n",
    "\n",
    "        \n",
    "def add_texture(ax, texture, image_size=500):\n",
    "    for i in range(10, 2*image_size, texture.step):\n",
    "        for j in range(10, 2*image_size, texture.step):\n",
    "            patch = texture.get_patch((i,j))\n",
    "            ax.add_patch(patch)\n",
    "           \n",
    "        \n",
    "def generate_texture(patch_type=None, image_size=500):\n",
    "    if patch_type is None:\n",
    "        # randomly sample a patch type\n",
    "        patch_types = [\n",
    "            'ellipse', 'arc', 'arrow', 'circle',\n",
    "            'rectangle', 'wedge', 'circle_polygon5',\n",
    "            'circle_polygon6', 'circle_polygon7', \n",
    "            'circle_polygon8'\n",
    "        ]\n",
    "        patch_type = np.random.choice(patch_types)\n",
    "    # Patch size will be uniformly sampled. Let's define\n",
    "    # reasonable boundaries here\n",
    "    patch_min_size = int(0.02*image_size)\n",
    "    patch_max_size = int(0.07*image_size)\n",
    "    # Now, build the texture object according to the specified type\n",
    "    if patch_type == 'circle':\n",
    "        params = {\n",
    "            'radius': np.random.randint(patch_min_size, patch_max_size)\n",
    "        }\n",
    "    elif patch_type in ['rectangle', 'ellipse', 'arc']:\n",
    "        params = {\n",
    "            'height': np.random.randint(patch_min_size, patch_max_size),\n",
    "            'width': np.random.randint(2*patch_min_size, 2*patch_max_size),\n",
    "            'angle': np.random.randint(0, 181)\n",
    "        }\n",
    "    elif patch_type.startswith('circle_polygon'):\n",
    "        params = {\n",
    "            'radius': np.random.randint(patch_min_size, patch_max_size),\n",
    "        }\n",
    "    elif patch_type == 'wedge':\n",
    "        params = {\n",
    "            'radius': np.random.randint(patch_min_size, patch_max_size),\n",
    "            'theta2': np.random.randint(0, 271)\n",
    "        }\n",
    "    elif patch_type == 'arrow':\n",
    "        params = {\n",
    "            'dx': np.random.randint(-patch_max_size, patch_max_size),\n",
    "            'dy': np.random.randint(-patch_max_size, patch_max_size),\n",
    "            'width': np.random.randint(3*patch_min_size, 3*patch_max_size)\n",
    "        }\n",
    "    else:\n",
    "        raise Exception('Invalid patch_type parameter.')\n",
    "    \n",
    "    # As another parameter, step size (space between \n",
    "    # patches) will be uniformly sampled. Define \n",
    "    # boundaries here\n",
    "    step_min_size = int(0.15*image_size)\n",
    "    step_max_size = int(0.3*image_size)\n",
    "    # Now sample the step size. Later, we will step \n",
    "    # through the image placing the patches at different \n",
    "    # locations, 'step' pixels apart from one another\n",
    "    step = np.random.randint(step_min_size, step_max_size)\n",
    "    \n",
    "    # As a final parameter, we will sample a gradient from\n",
    "    gradient_options = [None, 'left', 'right', 'up', 'down']\n",
    "    gradient = np.random.choice(gradient_options)\n",
    "    \n",
    "    # Now create the texture object instance and return\n",
    "    return Texture(patch_type, step, gradient, params)"
   ]
  },
  {
   "cell_type": "code",
   "execution_count": 32,
   "metadata": {},
   "outputs": [
    {
     "ename": "Exception",
     "evalue": "Invalid patch_type parameter.",
     "output_type": "error",
     "traceback": [
      "\u001b[0;31m------------------------------------------------\u001b[0m",
      "\u001b[0;31mException\u001b[0m      Traceback (most recent call last)",
      "\u001b[0;32m<ipython-input-32-4da86ade7f30>\u001b[0m in \u001b[0;36m<module>\u001b[0;34m()\u001b[0m\n\u001b[1;32m      2\u001b[0m \u001b[0mcolor\u001b[0m \u001b[0;34m=\u001b[0m \u001b[0mnp\u001b[0m\u001b[0;34m.\u001b[0m\u001b[0mrandom\u001b[0m\u001b[0;34m.\u001b[0m\u001b[0muniform\u001b[0m\u001b[0;34m(\u001b[0m\u001b[0;36m0\u001b[0m\u001b[0;34m,\u001b[0m \u001b[0;36m1\u001b[0m\u001b[0;34m,\u001b[0m \u001b[0msize\u001b[0m\u001b[0;34m=\u001b[0m\u001b[0;36m3\u001b[0m\u001b[0;34m)\u001b[0m\u001b[0;34m\u001b[0m\u001b[0m\n\u001b[1;32m      3\u001b[0m \u001b[0mshape\u001b[0m \u001b[0;34m=\u001b[0m \u001b[0mgenerate_random_shape\u001b[0m\u001b[0;34m(\u001b[0m\u001b[0mx_min\u001b[0m\u001b[0;34m=\u001b[0m\u001b[0;36m0\u001b[0m\u001b[0;34m,\u001b[0m \u001b[0mx_max\u001b[0m\u001b[0;34m=\u001b[0m\u001b[0;36m500\u001b[0m\u001b[0;34m,\u001b[0m \u001b[0my_min\u001b[0m\u001b[0;34m=\u001b[0m\u001b[0;36m0\u001b[0m\u001b[0;34m,\u001b[0m \u001b[0my_max\u001b[0m\u001b[0;34m=\u001b[0m\u001b[0;36m500\u001b[0m\u001b[0;34m,\u001b[0m \u001b[0medge_distance\u001b[0m\u001b[0;34m=\u001b[0m\u001b[0;36m100\u001b[0m\u001b[0;34m)\u001b[0m\u001b[0;34m\u001b[0m\u001b[0m\n\u001b[0;32m----> 4\u001b[0;31m \u001b[0mtexture\u001b[0m \u001b[0;34m=\u001b[0m \u001b[0mgenerate_texture\u001b[0m\u001b[0;34m(\u001b[0m\u001b[0;34m'+'\u001b[0m\u001b[0;34m,\u001b[0m \u001b[0;36m500\u001b[0m\u001b[0;34m)\u001b[0m\u001b[0;34m\u001b[0m\u001b[0m\n\u001b[0m",
      "\u001b[0;32m<ipython-input-31-9ce8cb907277>\u001b[0m in \u001b[0;36mgenerate_texture\u001b[0;34m(patch_type, image_size)\u001b[0m\n\u001b[1;32m    110\u001b[0m         }\n\u001b[1;32m    111\u001b[0m     \u001b[0;32melse\u001b[0m\u001b[0;34m:\u001b[0m\u001b[0;34m\u001b[0m\u001b[0m\n\u001b[0;32m--> 112\u001b[0;31m         \u001b[0;32mraise\u001b[0m \u001b[0mException\u001b[0m\u001b[0;34m(\u001b[0m\u001b[0;34m'Invalid patch_type parameter.'\u001b[0m\u001b[0;34m)\u001b[0m\u001b[0;34m\u001b[0m\u001b[0m\n\u001b[0m\u001b[1;32m    113\u001b[0m \u001b[0;34m\u001b[0m\u001b[0m\n\u001b[1;32m    114\u001b[0m     \u001b[0;31m# As another parameter, step size (space between\u001b[0m\u001b[0;34m\u001b[0m\u001b[0;34m\u001b[0m\u001b[0m\n",
      "\u001b[0;31mException\u001b[0m: Invalid patch_type parameter."
     ]
    }
   ],
   "source": [
    "# Randomly generate a color, shape and texture\n",
    "color = np.random.uniform(0, 1, size=3)\n",
    "shape = generate_random_shape(x_min=0, x_max=500, y_min=0, y_max=500, edge_distance=100)\n",
    "texture = generate_texture('+', 500)"
   ]
  },
  {
   "cell_type": "code",
   "execution_count": 29,
   "metadata": {},
   "outputs": [
    {
     "data": {
      "image/png": "[encoded data removed]",
      "text/plain": [
       "<matplotlib.figure.Figure at 0x1252cac18>"
      ]
     },
     "metadata": {},
     "output_type": "display_data"
    }
   ],
   "source": [
    "# Generate the background image\n",
    "#img = get_gradient(500, 500, color, gradient=texture.gradient)\n",
    "img = get_gradient1(500, 500, color, shape, gradient=texture.gradient)\n",
    "# Plot the image\n",
    "fig = plt.figure(frameon=False)\n",
    "fig.set_size_inches(5, 5)\n",
    "ax = plt.Axes(fig, [0., 0., 1., 1.])\n",
    "ax.set_axis_off()\n",
    "fig.add_axes(ax)\n",
    "ax.imshow(\n",
    "    img,\n",
    "    interpolation='bicubic'\n",
    ")\n",
    "square = Polygon([(0,0), (500, 0), (500, 500), (0, 500)], closed=True, fill=False, color=(0,0,0))\n",
    "square.set_hatch('++')\n",
    "ax.add_patch(square)\n",
    "#add_texture(ax, texture, 500)\n",
    "boundary = Polygon(shape, closed=True, fill=False, color=(1, 1, 1))\n",
    "ax.add_patch(boundary)\n",
    "plt.show()\n",
    "#plt.savefig('/Users/reubenfeinman/Desktop/fig.png')\n",
    "#plt.close()"
   ]
  },
  {
   "cell_type": "code",
   "execution_count": 367,
   "metadata": {},
   "outputs": [
    {
     "data": {
      "image/png": "[encoded data removed]",
      "text/plain": [
       "<matplotlib.figure.Figure at 0x110e42e48>"
      ]
     },
     "metadata": {},
     "output_type": "display_data"
    }
   ],
   "source": [
    "img = image.load_img('/Users/reubenfeinman/Desktop/fig.png', target_size=(500, 500))\n",
    "img = image.img_to_array(img)\n",
    "img /= 255.\n",
    "p = mplpath.Path(shape)\n",
    "for i in range(img.shape[0]):\n",
    "    for j in range(img.shape[1]):\n",
    "        if not p.contains_point((i,j)):\n",
    "            img[j,i,:] = np.array([1.,1.,1.])\n",
    "\n",
    "fig = plt.figure(frameon=False)\n",
    "fig.set_size_inches(5, 5)\n",
    "ax = plt.Axes(fig, [0., 0., 1., 1.])\n",
    "ax.set_axis_off()\n",
    "fig.add_axes(ax)\n",
    "ax.imshow(img)\n",
    "plt.show()\n",
    "#plt.savefig('/Users/reubenfeinman/Desktop/fig_cut.png', bbox_inches='tight')"
   ]
  },
  {
   "cell_type": "code",
   "execution_count": 72,
   "metadata": {
    "collapsed": true
   },
   "outputs": [],
   "source": [
    "def generate_dataset_parameters(nb_categories, image_size=500):\n",
    "    \"\"\"\n",
    "\n",
    "    :param nb_shapes:\n",
    "    :return:\n",
    "    \"\"\"\n",
    "    # Generate shapes, which are sets of points for which polygons will\n",
    "    # be generated\n",
    "    shapes = [generate_random_shape(0, 500, 0, 500, 400, 400) for _ in\n",
    "              range(nb_categories)]\n",
    "    # Generate colors, which are 3-D vectors of values between 0-1 (RGB values)\n",
    "    colors = np.random.uniform(0, 1, size=(nb_categories, 3))\n",
    "    # Generate textures\n",
    "    patch_types = [\n",
    "            'ellipse', 'arc', 'arrow', 'circle',\n",
    "            'rectangle', 'wedge', 'circle_polygon5',\n",
    "            'circle_polygon6', 'circle_polygon7', \n",
    "            'circle_polygon8'\n",
    "        ]\n",
    "    nb_variations = int(np.ceil(nb_categories / len(patch_types)))\n",
    "    textures = []\n",
    "    for patch_type in patch_types:\n",
    "        t_list = [generate_texture(patch_type, image_size) for _ in range(nb_variations)]\n",
    "        textures.extend(t_list)\n",
    "    textures = np.random.choice(textures, nb_categories, replace=False)\n",
    "\n",
    "    return shapes, colors, textures"
   ]
  },
  {
   "cell_type": "code",
   "execution_count": 73,
   "metadata": {
    "collapsed": true
   },
   "outputs": [],
   "source": [
    "shapes, colors, textures = generate_dataset_parameters(50)"
   ]
  },
  {
   "cell_type": "code",
   "execution_count": null,
   "metadata": {
    "collapsed": true
   },
   "outputs": [],
   "source": []
  },
  {
   "cell_type": "code",
   "execution_count": null,
   "metadata": {
    "collapsed": true
   },
   "outputs": [],
   "source": []
  },
  {
   "cell_type": "code",
   "execution_count": null,
   "metadata": {
    "collapsed": true
   },
   "outputs": [],
   "source": []
  },
  {
   "cell_type": "markdown",
   "metadata": {},
   "source": [
    "## Color generation"
   ]
  },
  {
   "cell_type": "code",
   "execution_count": 7,
   "metadata": {
    "collapsed": true
   },
   "outputs": [],
   "source": [
    "from scipy.spatial.distance import pdist\n",
    "from itertools import combinations"
   ]
  },
  {
   "cell_type": "code",
   "execution_count": 432,
   "metadata": {
    "collapsed": true
   },
   "outputs": [],
   "source": [
    "#best_score = -np.inf\n",
    "colors = []\n",
    "scores = []\n",
    "for _ in range(10000):\n",
    "    c = np.random.uniform(0, 1, size=(100, 3))\n",
    "    colors.append(c)\n",
    "    score = np.min(pdist(c))\n",
    "    scores.append(score)\n",
    "#     if score > best_score:\n",
    "#         colors = c\n",
    "#         best_score = score"
   ]
  },
  {
   "cell_type": "code",
   "execution_count": 437,
   "metadata": {},
   "outputs": [
    {
     "data": {
      "image/png": "[encoded data removed]",
      "text/plain": [
       "<matplotlib.figure.Figure at 0x1215d9c88>"
      ]
     },
     "metadata": {},
     "output_type": "display_data"
    }
   ],
   "source": [
    "plt.figure(figsize=(5,4))\n",
    "plt.hist(scores, bins=40)\n",
    "plt.show()"
   ]
  },
  {
   "cell_type": "code",
   "execution_count": 438,
   "metadata": {
    "collapsed": true
   },
   "outputs": [],
   "source": [
    "i_best = np.argmax(scores)\n",
    "c_best = colors[i_best]\n",
    "dist_best = pdist(c_best)\n",
    "i_best_min = np.argmin(dist_best)\n",
    "\n",
    "i_worst = np.argmin(scores)\n",
    "c_worst = colors[i_worst]\n",
    "dist_worst = pdist(c_worst)\n",
    "i_worst_min = np.argmin(dist_worst)"
   ]
  },
  {
   "cell_type": "code",
   "execution_count": 440,
   "metadata": {
    "collapsed": true
   },
   "outputs": [],
   "source": [
    "pairs = list(combinations(range(100), 2))"
   ]
  },
  {
   "cell_type": "code",
   "execution_count": 441,
   "metadata": {
    "collapsed": true
   },
   "outputs": [],
   "source": [
    "pair_best = pairs[i_best_min]\n",
    "pair_worst = pairs[i_worst_min]"
   ]
  },
  {
   "cell_type": "code",
   "execution_count": 539,
   "metadata": {
    "collapsed": true
   },
   "outputs": [],
   "source": [
    "def compare_colors(c1, c2):\n",
    "    fig = plt.figure(frameon=False)\n",
    "    fig.set_size_inches(5, 5)\n",
    "    ax = plt.Axes(fig, [0., 0., 1., 1.])\n",
    "    ax.set_axis_off()\n",
    "    ax.add_patch(Circle((0.25,0.5), 0.1, color=c1))\n",
    "    ax.add_patch(Circle((0.75,0.5), 0.1, color=c2))\n",
    "    fig.add_axes(ax)\n",
    "    plt.show()"
   ]
  },
  {
   "cell_type": "code",
   "execution_count": 540,
   "metadata": {},
   "outputs": [
    {
     "name": "stdout",
     "output_type": "stream",
     "text": [
      "0.079828935223\n"
     ]
    },
    {
     "data": {
      "image/png": "[encoded data removed]",
      "text/plain": [
       "<matplotlib.figure.Figure at 0x122b27b38>"
      ]
     },
     "metadata": {},
     "output_type": "display_data"
    }
   ],
   "source": [
    "print(np.linalg.norm(c_best[pair_best[0]] - c_best[pair_best[1]]))\n",
    "compare_colors(c_best[pair_best[0]], c_best[pair_best[1]])"
   ]
  },
  {
   "cell_type": "code",
   "execution_count": 443,
   "metadata": {},
   "outputs": [
    {
     "name": "stdout",
     "output_type": "stream",
     "text": [
      "0.00131607863968\n"
     ]
    },
    {
     "data": {
      "image/png": "[encoded data removed]",
      "text/plain": [
       "<matplotlib.figure.Figure at 0x1253ad400>"
      ]
     },
     "metadata": {},
     "output_type": "display_data"
    }
   ],
   "source": [
    "print(np.linalg.norm(c_worst[pair_worst[0]] - c_worst[pair_worst[1]]))\n",
    "compare_colors(c_worst[pair_worst[0]], c_worst[pair_worst[1]])"
   ]
  },
  {
   "cell_type": "code",
   "execution_count": 2,
   "metadata": {
    "collapsed": true
   },
   "outputs": [],
   "source": [
    "def generate_colors(nb_colors):\n",
    "    \"\"\"\n",
    "    Function to generate a set of nb_colors colors. They\n",
    "    are generated such that there is sufficient distance\n",
    "    between each color vector. This is better than random\n",
    "    color sampling.\n",
    "    :param nb_colors: (int) the number of colors to generate\n",
    "    :return: (Numpy array) the (nb_colors, 3) color matrix\n",
    "    \"\"\"\n",
    "    nb_bins = np.round(np.power(nb_colors, 1 / 3)) + 1\n",
    "    vals = np.linspace(0, 0.95, int(nb_bins))\n",
    "    colors = []\n",
    "    for r in vals:\n",
    "        for g in vals:\n",
    "            for b in vals:\n",
    "                colors.append([r, g, b])\n",
    "\n",
    "    colors = sorted(colors, key=lambda x: sum(x))\n",
    "    colors = colors[-nb_colors:]\n",
    "    return np.asarray(colors)"
   ]
  },
  {
   "cell_type": "code",
   "execution_count": 9,
   "metadata": {},
   "outputs": [],
   "source": [
    "colors = generate_colors(10)\n",
    "dist = pdist(colors)\n",
    "i_low = np.argmin(dist)\n",
    "pairs = list(combinations(range(100), 2))\n",
    "p = pairs[i_low]"
   ]
  },
  {
   "cell_type": "code",
   "execution_count": 11,
   "metadata": {},
   "outputs": [
    {
     "data": {
      "text/plain": [
       "0.47499999999999998"
      ]
     },
     "execution_count": 11,
     "metadata": {},
     "output_type": "execute_result"
    }
   ],
   "source": [
    "np.min(dist)"
   ]
  },
  {
   "cell_type": "code",
   "execution_count": 22,
   "metadata": {
    "collapsed": true
   },
   "outputs": [],
   "source": [
    "def show_color(c):\n",
    "    fig = plt.figure(frameon=False)\n",
    "    fig.set_size_inches(1, 1)\n",
    "    ax = plt.Axes(fig, [0., 0., 1., 1.])\n",
    "    ax.set_axis_off()\n",
    "    ax.add_patch(Circle((0.5,0.5), 0.5, color=c))\n",
    "    fig.add_axes(ax)\n",
    "    plt.show()"
   ]
  },
  {
   "cell_type": "code",
   "execution_count": 23,
   "metadata": {
    "scrolled": false
   },
   "outputs": [
    {
     "name": "stdout",
     "output_type": "stream",
     "text": [
      "[ 0.    0.95  0.95]\n"
     ]
    },
    {
     "data": {
      "image/png": "[encoded data removed]",
      "text/plain": [
       "<matplotlib.figure.Figure at 0x11c2a6cf8>"
      ]
     },
     "metadata": {},
     "output_type": "display_data"
    },
    {
     "name": "stdout",
     "output_type": "stream",
     "text": [
      "[ 0.475  0.475  0.95 ]\n"
     ]
    },
    {
     "data": {
      "image/png": "[encoded data removed]",
      "text/plain": [
       "<matplotlib.figure.Figure at 0x11c66e2e8>"
      ]
     },
     "metadata": {},
     "output_type": "display_data"
    },
    {
     "name": "stdout",
     "output_type": "stream",
     "text": [
      "[ 0.475  0.95   0.475]\n"
     ]
    },
    {
     "data": {
      "image/png": "[encoded data removed]",
      "text/plain": [
       "<matplotlib.figure.Figure at 0x11cb1c0f0>"
      ]
     },
     "metadata": {},
     "output_type": "display_data"
    },
    {
     "name": "stdout",
     "output_type": "stream",
     "text": [
      "[ 0.95  0.    0.95]\n"
     ]
    },
    {
     "data": {
      "image/png": "[encoded data removed]",
      "text/plain": [
       "<matplotlib.figure.Figure at 0x11cf06eb8>"
      ]
     },
     "metadata": {},
     "output_type": "display_data"
    },
    {
     "name": "stdout",
     "output_type": "stream",
     "text": [
      "[ 0.95   0.475  0.475]\n"
     ]
    },
    {
     "data": {
      "image/png": "[encoded data removed]",
      "text/plain": [
       "<matplotlib.figure.Figure at 0x11ce585f8>"
      ]
     },
     "metadata": {},
     "output_type": "display_data"
    },
    {
     "name": "stdout",
     "output_type": "stream",
     "text": [
      "[ 0.95  0.95  0.  ]\n"
     ]
    },
    {
     "data": {
      "image/png": "[encoded data removed]",
      "text/plain": [
       "<matplotlib.figure.Figure at 0x11c9b1780>"
      ]
     },
     "metadata": {},
     "output_type": "display_data"
    },
    {
     "name": "stdout",
     "output_type": "stream",
     "text": [
      "[ 0.475  0.95   0.95 ]\n"
     ]
    },
    {
     "data": {
      "image/png": "[encoded data removed]",
      "text/plain": [
       "<matplotlib.figure.Figure at 0x11ccbd940>"
      ]
     },
     "metadata": {},
     "output_type": "display_data"
    },
    {
     "name": "stdout",
     "output_type": "stream",
     "text": [
      "[ 0.95   0.475  0.95 ]\n"
     ]
    },
    {
     "data": {
      "image/png": "[encoded data removed]",
      "text/plain": [
       "<matplotlib.figure.Figure at 0x11c81b4e0>"
      ]
     },
     "metadata": {},
     "output_type": "display_data"
    },
    {
     "name": "stdout",
     "output_type": "stream",
     "text": [
      "[ 0.95   0.95   0.475]\n"
     ]
    },
    {
     "data": {
      "image/png": "[encoded data removed]",
      "text/plain": [
       "<matplotlib.figure.Figure at 0x11c973b70>"
      ]
     },
     "metadata": {},
     "output_type": "display_data"
    },
    {
     "name": "stdout",
     "output_type": "stream",
     "text": [
      "[ 0.95  0.95  0.95]\n"
     ]
    },
    {
     "data": {
      "image/png": "[encoded data removed]",
      "text/plain": [
       "<matplotlib.figure.Figure at 0x11cf06710>"
      ]
     },
     "metadata": {},
     "output_type": "display_data"
    }
   ],
   "source": [
    "for c in colors:\n",
    "    print(c)\n",
    "    show_color(c)"
   ]
  },
  {
   "cell_type": "code",
   "execution_count": 25,
   "metadata": {},
   "outputs": [
    {
     "data": {
      "text/plain": [
       "0.47499999999999998"
      ]
     },
     "execution_count": 25,
     "metadata": {},
     "output_type": "execute_result"
    }
   ],
   "source": [
    "diff = np.asarray([0.95, 0.95, 0.]) - np.asarray([0.95, 0.95, 0.475])\n",
    "np.linalg.norm(diff)"
   ]
  },
  {
   "cell_type": "code",
   "execution_count": null,
   "metadata": {
    "collapsed": true
   },
   "outputs": [],
   "source": []
  }
 ],
 "metadata": {
  "kernelspec": {
   "display_name": "Python 3",
   "language": "python",
   "name": "python3"
  },
  "language_info": {
   "codemirror_mode": {
    "name": "ipython",
    "version": 3
   },
   "file_extension": ".py",
   "mimetype": "text/x-python",
   "name": "python",
   "nbconvert_exporter": "python",
   "pygments_lexer": "ipython3",
   "version": "3.6.1"
  }
 },
 "nbformat": 4,
 "nbformat_minor": 2
}
