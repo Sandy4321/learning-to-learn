{
 "cells": [
  {
   "cell_type": "code",
   "execution_count": 92,
   "metadata": {},
   "outputs": [],
   "source": [
    "import os\n",
    "import numpy as np\n",
    "import pandas as pd\n",
    "from keras.preprocessing import image\n",
    "import matplotlib.path as mplpath\n",
    "\n",
    "from learning2learn.images import generate_image, generate_random_shape, Texture, generate_colors\n",
    "from learning2learn.util import synthesize_data"
   ]
  },
  {
   "cell_type": "code",
   "execution_count": 33,
   "metadata": {
    "collapsed": true
   },
   "outputs": [],
   "source": [
    "# def generate_texture(patch_type=None, gradient='sample', image_size=500):\n",
    "#     \"\"\"\n",
    "\n",
    "#     :param patch_type:\n",
    "#     :param gradient:\n",
    "#     :param image_size:\n",
    "#     :return:\n",
    "#     \"\"\"\n",
    "#     if patch_type is None:\n",
    "#         # randomly sample a patch type\n",
    "#         patch_types = [\n",
    "#             'ellipse', 'arc', 'arrow', 'circle',\n",
    "#             'rectangle', 'wedge', 'pentagon',\n",
    "#             '/', '//', '-', '--', '+', '++'\n",
    "#         ]\n",
    "#         patch_type = np.random.choice(patch_types)\n",
    "#     # Patch size will be uniformly sampled. Let's define\n",
    "#     # reasonable boundaries here\n",
    "#     patch_min_size = int(0.03*image_size)\n",
    "#     patch_max_size = int(0.09*image_size)\n",
    "#     # Now, build the texture object according to the specified type\n",
    "#     if patch_type == 'circle':\n",
    "#         params = {\n",
    "#             'radius': randint(patch_min_size, patch_max_size)\n",
    "#         }\n",
    "#     elif patch_type in ['rectangle', 'ellipse', 'arc']:\n",
    "#         params = {\n",
    "#             'height': randint(patch_min_size, patch_max_size),\n",
    "#             'width': randint(2*patch_min_size, 2*patch_max_size),\n",
    "#             'angle': randint(0, 180)\n",
    "#         }\n",
    "#     elif patch_type == 'pentagon':\n",
    "#         params = {\n",
    "#             'radius': randint(patch_min_size, patch_max_size)\n",
    "#         }\n",
    "#     elif patch_type == 'wedge':\n",
    "#         params = {\n",
    "#             'radius': randint(patch_min_size, patch_max_size),\n",
    "#             'theta2': randint(45, 270)\n",
    "#         }\n",
    "#     elif patch_type == 'arrow':\n",
    "#         params = {\n",
    "#             'dx': randint(-patch_max_size, patch_max_size),\n",
    "#             'dy': randint(-patch_max_size, patch_max_size),\n",
    "#             'width': randint(3*patch_min_size, 3*patch_max_size)\n",
    "#         }\n",
    "#     elif patch_type in ['/', '//', '-', '--', '+', '++']:\n",
    "#         params = None\n",
    "#     else:\n",
    "#         raise Exception('Invalid patch_type parameter.')\n",
    "\n",
    "#     if patch_type in ['ellipse', 'arc', 'arrow', 'circle','rectangle',\n",
    "#                       'wedge', 'pentagon']:\n",
    "#         # As another parameter, step size (space between\n",
    "#         # patches) will be uniformly sampled. Define\n",
    "#         # boundaries here\n",
    "#         step_min_size = int(0.15*image_size)\n",
    "#         step_max_size = int(0.30*image_size)\n",
    "#         # Now sample the step size. Later, we will step\n",
    "#         # through the image placing the patches at different\n",
    "#         # locations, 'step' pixels apart from one another\n",
    "#         step = randint(step_min_size, step_max_size)\n",
    "#     else:\n",
    "#         step = None\n",
    "\n",
    "#     if gradient == 'sample':\n",
    "#         # As a final parameter, we will sample a gradient from\n",
    "#         # a set of 5 options\n",
    "#         gradient_options = [None, 'left', 'right', 'up', 'down']\n",
    "#         gradient = np.random.choice(gradient_options)\n",
    "#     else:\n",
    "#         # In this case, the gradient has already been provided.\n",
    "#         # Let's error-check it.\n",
    "#         assert gradient in [None, 'left', 'right', 'up', 'down']\n",
    "\n",
    "#     # Now create the texture object instance and return\n",
    "#     return Texture(patch_type, gradient, step, params)\n",
    "\n",
    "# def generate_textures(nb_categories, image_size):\n",
    "#     step_min = int(0.15*image_size)\n",
    "#     step_max = int(0.30*image_size)\n",
    "#     size_min = int(0.03*image_size)\n",
    "#     size_max = int(0.09*image_size)\n",
    "#     textures = []\n",
    "#     # hatches\n",
    "#     for hatch_type in ['/', '//', '-', '--', '+', '++']:\n",
    "#         textures.append(Texture(hatch_type, gradient=None))\n",
    "#     # circles and pentagons\n",
    "#     for size in [6, 10, 14]:\n",
    "#         params = {'radius': size}\n",
    "#         for step in [45, 60]:\n",
    "#             textures.append(Texture('circle', None, step, params))\n",
    "#             textures.append(Texture('pentagon', None, step, params))\n",
    "#     # rectangles, ellipses and arcs\n",
    "#     for size in [6, 10, 14]:\n",
    "#         for angle in [0, 45, 90]:\n",
    "#             params = {\n",
    "#                 'height': 1.5*size,\n",
    "#                 'width': size,\n",
    "#                 'angle': angle\n",
    "#             }\n",
    "#             for step in [45, 60]:\n",
    "#                 textures.append(Texture('rectangle', None, step, params))\n",
    "#                 textures.append(Texture('ellipse', None, step, params))\n",
    "#                 textures.append(Texture('arc', None, step, params))\n",
    "#     # wedges\n",
    "#     for size in [6, 10, 14]:\n",
    "#         for theta in [180, 270]:\n",
    "#             params = {\n",
    "#                 'radius': size,\n",
    "#                 'theta2': theta\n",
    "#             }\n",
    "#             for step in [45, 60]:\n",
    "#                 textures.append(Texture('wedge', None, step, params))\n",
    "#     # arrows\n",
    "#     for size in [6, 10, 14]:\n",
    "#         for width in [20, 50]:\n",
    "#             params = {\n",
    "#                 'dx': size,\n",
    "#                 'dy': size,\n",
    "#                 'width': width\n",
    "#             }\n",
    "#             for step in [45, 60]:\n",
    "#                 textures.append(Texture('arrow', None, step, params))\n",
    "    \n",
    "#     return textures\n",
    "\n",
    "# def generate_dataset_parameters(nb_categories, image_size=500):\n",
    "#     # Generate shapes, which are sets of points for which polygons will\n",
    "#     # be generated\n",
    "#     shapes = [generate_random_shape(0, 500, 0, 500, 100) for _ in\n",
    "#               range(nb_categories)]\n",
    "#     # Generate colors, which are 3-D vectors of values between 0-1 (RGB values)\n",
    "#     colors = generate_colors(nb_categories)\n",
    "\n",
    "#     return shapes, colors"
   ]
  },
  {
   "cell_type": "markdown",
   "metadata": {},
   "source": [
    "## First, we will make textures with circles"
   ]
  },
  {
   "cell_type": "code",
   "execution_count": 47,
   "metadata": {
    "collapsed": true
   },
   "outputs": [],
   "source": [
    "# patch_type = 'circle'\n",
    "# i = 0"
   ]
  },
  {
   "cell_type": "code",
   "execution_count": 74,
   "metadata": {
    "collapsed": true
   },
   "outputs": [],
   "source": [
    "# params = {\n",
    "#     'radius': 10\n",
    "# }\n",
    "# texture = Texture(patch_type, None, 30, params)\n",
    "# generate_image(shape, color, texture, os.path.join(save_folder, '%s%i.png' % (patch_type, i)))\n",
    "# i += 1"
   ]
  },
  {
   "cell_type": "markdown",
   "metadata": {},
   "source": [
    "# Let's play around with image textures..."
   ]
  },
  {
   "cell_type": "code",
   "execution_count": 106,
   "metadata": {
    "collapsed": true
   },
   "outputs": [],
   "source": [
    "def get_textures(nb_textures):\n",
    "    assert os.path.isdir('../data/textures')\n",
    "    files = sorted([file for file in os.listdir('../data/textures') if file.endswith('tiff')])\n",
    "    assert nb_textures <= len(files)\n",
    "    \n",
    "    #return np.random.choice(files, nb_textures, replace=False)\n",
    "    return files[:nb_textures]\n",
    "    \n",
    "def generate_dataset_parameters(nb_categories, image_size=500):\n",
    "    # Generate shapes, which are sets of points for which polygons will\n",
    "    # be generated\n",
    "    shapes = [generate_random_shape(0, 500, 0, 500, 100) for _ in\n",
    "              range(nb_categories)]\n",
    "    # Generate colors, which are 3-D vectors of values between 0-1 (RGB values)\n",
    "    colors = generate_colors(nb_categories)\n",
    "    # Generate textures, which come from saved image files\n",
    "    textures = get_textures(nb_categories)\n",
    "\n",
    "    return shapes, colors, textures\n",
    "\n",
    "def generate_image(shape, color, texture, save_file):\n",
    "    \"\"\"\n",
    "\n",
    "    :param shape:\n",
    "    :param color:\n",
    "    :param texture:\n",
    "    :param save_file:\n",
    "    :return:\n",
    "    \"\"\"\n",
    "    # Generate the base image and save it to a file\n",
    "    img = image.load_img('../data/textures/%s' % texture, target_size=(300,300))\n",
    "    img = image.img_to_array(img) / 255.\n",
    "    fig = plt.figure(frameon=False)\n",
    "    fig.set_size_inches(5, 5)\n",
    "    ax = plt.Axes(fig, [0., 0., 1., 1.])\n",
    "    ax.set_axis_off()\n",
    "    fig.add_axes(ax)\n",
    "    ax.imshow(img*color, interpolation='bicubic')\n",
    "    plt.savefig(save_file)\n",
    "    plt.close()\n",
    "    # Load the base image from file, crop it using mplpath,\n",
    "    # and save back to the file\n",
    "    img = image.load_img(save_file, target_size=(500, 500))\n",
    "    img = image.img_to_array(img)\n",
    "    img /= 255.\n",
    "    p = mplpath.Path(shape)\n",
    "    for i in range(img.shape[0]):\n",
    "        for j in range(img.shape[1]):\n",
    "            if not p.contains_point((i, j)):\n",
    "                img[j,i,:] = np.array([1.,1.,1.])\n",
    "    fig = plt.figure(frameon=False)\n",
    "    fig.set_size_inches(5, 5)\n",
    "    ax = plt.Axes(fig, [0., 0., 1., 1.])\n",
    "    ax.set_axis_off()\n",
    "    fig.add_axes(ax)\n",
    "    ax.imshow(img)\n",
    "    plt.savefig(save_file, bbox_inches='tight')\n",
    "    plt.close()"
   ]
  },
  {
   "cell_type": "code",
   "execution_count": 113,
   "metadata": {},
   "outputs": [],
   "source": [
    "data_folder = '../data/images_generated/'\n",
    "nb_categories = 50\n",
    "nb_exemplars = 20\n",
    "\n",
    "# Get shapes, colors and textures\n",
    "shape_set, color_set, texture_set = generate_dataset_parameters(nb_categories)\n",
    "\n",
    "# Synthesize dataset\n",
    "df, _ = synthesize_data(nb_categories, nb_exemplars+1)\n",
    "shapes = [shape_set[i] for i in df['shape']]\n",
    "colors = [color_set[i] for i in df['color']]\n",
    "textures = [texture_set[i] for i in df['texture']]"
   ]
  },
  {
   "cell_type": "code",
   "execution_count": 114,
   "metadata": {},
   "outputs": [],
   "source": [
    "for shape, color, texture, i in zip(shapes, colors, textures, range(len(shapes))):\n",
    "    shape_ind = df['shape'].loc[i]\n",
    "    save_file = os.path.join(\n",
    "        data_folder,\n",
    "        'shape%0.2i_color%0.2i_texture%0.2i.png' % (df['shape'].loc[i], df['color'].loc[i], df['texture'].loc[i])\n",
    "    )\n",
    "    generate_image(shape, color, texture, save_file)\n",
    "# Save the dataset parameters so we know what we're working with\n",
    "df.to_csv(os.path.join(data_folder, 'data.csv'))"
   ]
  },
  {
   "cell_type": "code",
   "execution_count": 94,
   "metadata": {
    "collapsed": true
   },
   "outputs": [],
   "source": [
    "#generate_image(shapes[0], colors[0], textures[0], '/Users/reubenfeinman/Desktop/temp/TEMP.png')"
   ]
  },
  {
   "cell_type": "code",
   "execution_count": null,
   "metadata": {
    "collapsed": true
   },
   "outputs": [],
   "source": [
    "def create_dataset(nb_categories, nb_exemplars, data_folder):\n",
    "    # Generate the set of shapes, colors and textures that we will draw from\n",
    "    shape_set, color_set, texture_set = \\\n",
    "        generate_dataset_parameters(nb_categories)\n",
    "    # Create folder where images will be stored; if exists, remove\n",
    "    if os.path.isdir(data_folder):\n",
    "        print('A dataset of the specified parameters already exists. Using '\n",
    "              'the existing one...')\n",
    "    else:\n",
    "        print('Building the image dataset...')\n",
    "        os.mkdir(data_folder)\n",
    "        # Synthesize the dataset. Use nb_exemplars+1 because 1 exemplar\n",
    "        # of each class will be used for testing.\n",
    "        df, _ = synthesize_data(nb_categories, nb_exemplars+1)\n",
    "        shapes = [shape_set[i] for i in df['shape']]\n",
    "        colors = [color_set[i] for i in df['color']]\n",
    "        textures = [texture_set[i] for i in df['texture']]\n",
    "        for shape, color, texture, i in \\\n",
    "                zip(shapes, colors, textures, range(len(shapes))):\n",
    "            save_file = os.path.join(data_folder, 'img%0.4i.png' % i)\n",
    "            generate_image(shape, color, texture, save_file)\n",
    "        # Save the dataset parameters so we know what we're working with\n",
    "        df.to_csv(os.path.join(data_folder, 'data.csv'))"
   ]
  },
  {
   "cell_type": "code",
   "execution_count": null,
   "metadata": {
    "collapsed": true
   },
   "outputs": [],
   "source": []
  },
  {
   "cell_type": "code",
   "execution_count": null,
   "metadata": {
    "collapsed": true
   },
   "outputs": [],
   "source": []
  },
  {
   "cell_type": "code",
   "execution_count": null,
   "metadata": {
    "collapsed": true
   },
   "outputs": [],
   "source": []
  },
  {
   "cell_type": "code",
   "execution_count": null,
   "metadata": {
    "collapsed": true
   },
   "outputs": [],
   "source": []
  },
  {
   "cell_type": "code",
   "execution_count": null,
   "metadata": {
    "collapsed": true
   },
   "outputs": [],
   "source": []
  },
  {
   "cell_type": "code",
   "execution_count": 5,
   "metadata": {
    "collapsed": true
   },
   "outputs": [],
   "source": [
    "textures = generate_textures(nb_categories=10, image_size=500)"
   ]
  },
  {
   "cell_type": "code",
   "execution_count": 7,
   "metadata": {},
   "outputs": [
    {
     "data": {
      "text/plain": [
       "96"
      ]
     },
     "execution_count": 7,
     "metadata": {},
     "output_type": "execute_result"
    }
   ],
   "source": [
    "len(textures)"
   ]
  },
  {
   "cell_type": "code",
   "execution_count": 16,
   "metadata": {},
   "outputs": [
    {
     "name": "stdout",
     "output_type": "stream",
     "text": [
      "0\n",
      "1\n",
      "2\n",
      "3\n",
      "4\n",
      "5\n",
      "6\n",
      "7\n",
      "8\n",
      "9\n",
      "10\n",
      "11\n",
      "12\n",
      "13\n",
      "14\n",
      "15\n",
      "16\n",
      "17\n",
      "18\n",
      "19\n"
     ]
    }
   ],
   "source": [
    "for i in range(20):\n",
    "    print(i)\n",
    "    save_file = '/Users/reubenfeinman/Desktop/temp/img%0.2i.png' % i\n",
    "    generate_image(shape, color, textures[i], save_file)"
   ]
  },
  {
   "cell_type": "code",
   "execution_count": 9,
   "metadata": {
    "collapsed": true
   },
   "outputs": [],
   "source": [
    "def load_image_dataset(data_folder, target_size=(200, 200), feature_info=True):\n",
    "    # First load the images\n",
    "    imgs = []\n",
    "    files = [file for file in os.listdir(data_folder) if file.endswith('png')]\n",
    "    files = sorted(files)\n",
    "    for file in files:\n",
    "        img_path = os.path.join(data_folder, file)\n",
    "        img = image.load_img(img_path, target_size=target_size,\n",
    "                             interpolation='bicubic')\n",
    "        imgs.append(image.img_to_array(img))\n",
    "    imgs = np.asarray(imgs)\n",
    "    imgs /= 255.\n",
    "    if feature_info:\n",
    "        # Now load the feature info\n",
    "        feature_file = os.path.join(data_folder, 'data.csv')\n",
    "        df = pd.read_csv(feature_file, index_col=0)\n",
    "        #shapes = df['shape'].as_matrix()\n",
    "\n",
    "        # Return both images and shape info\n",
    "        return imgs, df\n",
    "    else:\n",
    "        return imgs\n",
    "\n",
    "def load_image_dataset1(nb_categories, nb_exemplars, data_folder,\n",
    "                        target_size=(200, 200)):\n",
    "    # First load the images\n",
    "    imgs = []\n",
    "    files = [file for file in os.listdir(data_folder) if file.endswith('png')]\n",
    "    files = sorted(files)\n",
    "    for file in files:\n",
    "        img_path = os.path.join(data_folder, file)\n",
    "        img = image.load_img(img_path, target_size=target_size,\n",
    "                             interpolation='bicubic')\n",
    "        imgs.append(image.img_to_array(img))\n",
    "    imgs = np.asarray(imgs)\n",
    "    imgs /= 255.\n",
    "    # Now load the feature info\n",
    "    feature_file = os.path.join(data_folder, 'data.csv')\n",
    "    df = pd.read_csv(feature_file, index_col=0)\n",
    "    # Collect a subset of the data according to nb_categories, nb_exemplars\n",
    "    ix = []\n",
    "    for cat in range(nb_categories):\n",
    "        ix_cat = df[df['shape'] == cat].index.tolist()\n",
    "        ix_cat = ix_cat[:nb_exemplars]\n",
    "        ix.extend(ix_cat)\n",
    "    imgs = imgs[ix]\n",
    "    df = df.iloc[ix]\n",
    "\n",
    "    return imgs, df['shape'].as_matrix()"
   ]
  },
  {
   "cell_type": "code",
   "execution_count": 10,
   "metadata": {
    "collapsed": true
   },
   "outputs": [],
   "source": [
    "#data_folder = '/Users/reubenfeinman/Dropbox/NYU/brenden_lake/learning-to-learn/data/images_ca0050_ex0014'\n",
    "data_folder = '/Users/reubenfeinman/Desktop/temp'\n",
    "#X, df = load_image_dataset1(10, 5, data_folder, target_size=(200, 200))\n",
    "X = load_image_dataset(data_folder, target_size=(200, 200), feature_info=False)"
   ]
  },
  {
   "cell_type": "code",
   "execution_count": 11,
   "metadata": {
    "collapsed": true
   },
   "outputs": [],
   "source": [
    "%matplotlib inline\n",
    "import matplotlib.pylab as plt"
   ]
  },
  {
   "cell_type": "code",
   "execution_count": 12,
   "metadata": {
    "collapsed": true
   },
   "outputs": [],
   "source": [
    "def show_img(o, img):\n",
    "    o.imshow(img)\n",
    "    o.axis('off')"
   ]
  },
  {
   "cell_type": "code",
   "execution_count": 15,
   "metadata": {},
   "outputs": [
    {
     "data": {
      "image/png": "[encoded data removed]",
      "text/plain": [
       "<matplotlib.figure.Figure at 0x123360ac8>"
      ]
     },
     "metadata": {},
     "output_type": "display_data"
    },
    {
     "data": {
      "image/png": "[encoded data removed]",
      "text/plain": [
       "<matplotlib.figure.Figure at 0x125227f60>"
      ]
     },
     "metadata": {},
     "output_type": "display_data"
    }
   ],
   "source": [
    "nrows = int(np.ceil(len(X)/4))\n",
    "# plot in rows of 4\n",
    "for i in range(nrows):\n",
    "    fig, axes = plt.subplots(nrows=1, ncols=4, figsize=(12,4))\n",
    "    for j in range(4):\n",
    "        if i*4+j < len(X):\n",
    "            axes[j].imshow(X[i*4+j])\n",
    "            axes[j].axis('off')\n",
    "    plt.show()"
   ]
  },
  {
   "cell_type": "code",
   "execution_count": null,
   "metadata": {
    "collapsed": true
   },
   "outputs": [],
   "source": []
  }
 ],
 "metadata": {
  "kernelspec": {
   "display_name": "Python 3",
   "language": "python",
   "name": "python3"
  },
  "language_info": {
   "codemirror_mode": {
    "name": "ipython",
    "version": 3
   },
   "file_extension": ".py",
   "mimetype": "text/x-python",
   "name": "python",
   "nbconvert_exporter": "python",
   "pygments_lexer": "ipython3",
   "version": "3.6.1"
  }
 },
 "nbformat": 4,
 "nbformat_minor": 2
}
