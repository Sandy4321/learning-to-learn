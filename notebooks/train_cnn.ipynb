{
 "cells": [
  {
   "cell_type": "code",
   "execution_count": 4,
   "metadata": {},
   "outputs": [],
   "source": [
    "from __future__ import division, print_function\n",
    "import numpy as np\n",
    "import pandas as pd\n",
    "import os\n",
    "from keras.preprocessing import image\n",
    "from keras.applications.vgg16 import preprocess_input\n",
    "from sklearn.preprocessing import LabelEncoder"
   ]
  },
  {
   "cell_type": "code",
   "execution_count": 22,
   "metadata": {
    "collapsed": true
   },
   "outputs": [],
   "source": [
    "from keras.datasets import cifar10\n",
    "from keras.utils import np_utils\n",
    "\n",
    "def load_imgs(save_folder, img_size=(224, 224)):\n",
    "    imgs = []\n",
    "    files = [file for file in os.listdir(save_folder) if file.endswith('png')]\n",
    "    for file in files:\n",
    "        img_path = os.path.join(save_folder, file)\n",
    "        img = image.load_img(img_path, target_size=img_size)\n",
    "        imgs.append(image.img_to_array(img))\n",
    "    imgs = np.asarray(imgs)\n",
    "    imgs /= 255.\n",
    "    \n",
    "    return imgs\n",
    "\n",
    "def data_cifar10():\n",
    "    \"\"\"\n",
    "    Preprocess CIFAR-10 dataset\n",
    "    \"\"\"\n",
    "    # the data, shuffled and split between train and test sets\n",
    "    (X_train, y_train), (X_test, y_test) = cifar10.load_data()\n",
    "    X_train = X_train.astype('float32')\n",
    "    X_test = X_test.astype('float32')\n",
    "    X_train /= 255\n",
    "    X_test /= 255\n",
    "\n",
    "    Y_train = np_utils.to_categorical(y_train, 10)\n",
    "    Y_test = np_utils.to_categorical(y_test, 10)\n",
    "\n",
    "    print(X_train.shape)\n",
    "    print(Y_train.shape)\n",
    "    print(X_test.shape)\n",
    "    print(Y_test.shape)\n",
    "    \n",
    "    return X_train, Y_train, X_test, Y_test"
   ]
  },
  {
   "cell_type": "code",
   "execution_count": 55,
   "metadata": {},
   "outputs": [],
   "source": [
    "X = load_imgs('../data/images_reuben/', (200, 200))\n",
    "df = pd.read_csv('../data/images_reuben/data.csv', index_col=0)\n",
    "shapes = df['shape'].as_matrix()\n",
    "colors = df['color'].as_matrix()\n",
    "textures = df['texture'].as_matrix()"
   ]
  },
  {
   "cell_type": "code",
   "execution_count": 56,
   "metadata": {},
   "outputs": [
    {
     "data": {
      "text/plain": [
       "(20, 3)"
      ]
     },
     "execution_count": 56,
     "metadata": {},
     "output_type": "execute_result"
    }
   ],
   "source": [
    "df.shape"
   ]
  },
  {
   "cell_type": "code",
   "execution_count": 60,
   "metadata": {},
   "outputs": [
    {
     "data": {
      "text/plain": [
       "(20, 10)"
      ]
     },
     "execution_count": 60,
     "metadata": {},
     "output_type": "execute_result"
    }
   ],
   "source": [
    "Y.shape"
   ]
  },
  {
   "cell_type": "code",
   "execution_count": 59,
   "metadata": {},
   "outputs": [
    {
     "data": {
      "text/plain": [
       "(20, 200, 200, 3)"
      ]
     },
     "execution_count": 59,
     "metadata": {},
     "output_type": "execute_result"
    }
   ],
   "source": [
    "X.shape"
   ]
  },
  {
   "cell_type": "code",
   "execution_count": 52,
   "metadata": {
    "scrolled": false
   },
   "outputs": [
    {
     "data": {
      "image/png": "[encoded data removed]",
      "text/plain": [
       "<matplotlib.figure.Figure at 0x11f765be0>"
      ]
     },
     "metadata": {},
     "output_type": "display_data"
    },
    {
     "data": {
      "image/png": "[encoded data removed]",
      "text/plain": [
       "<matplotlib.figure.Figure at 0x11f1da438>"
      ]
     },
     "metadata": {},
     "output_type": "display_data"
    },
    {
     "data": {
      "image/png": "[encoded data removed]",
      "text/plain": [
       "<matplotlib.figure.Figure at 0x11d610cf8>"
      ]
     },
     "metadata": {},
     "output_type": "display_data"
    },
    {
     "data": {
      "image/png": "[encoded data removed]",
      "text/plain": [
       "<matplotlib.figure.Figure at 0x11f74ee48>"
      ]
     },
     "metadata": {},
     "output_type": "display_data"
    },
    {
     "data": {
      "image/png": "[encoded data removed]",
      "text/plain": [
       "<matplotlib.figure.Figure at 0x11ddb3f28>"
      ]
     },
     "metadata": {},
     "output_type": "display_data"
    },
    {
     "data": {
      "image/png": "[encoded data removed]",
      "text/plain": [
       "<matplotlib.figure.Figure at 0x11fc5fe10>"
      ]
     },
     "metadata": {},
     "output_type": "display_data"
    },
    {
     "data": {
      "image/png": "[encoded data removed]",
      "text/plain": [
       "<matplotlib.figure.Figure at 0x11ecdfef0>"
      ]
     },
     "metadata": {},
     "output_type": "display_data"
    },
    {
     "data": {
      "image/png": "[encoded data removed]",
      "text/plain": [
       "<matplotlib.figure.Figure at 0x11f6f7860>"
      ]
     },
     "metadata": {},
     "output_type": "display_data"
    },
    {
     "data": {
      "image/png": "[encoded data removed]",
      "text/plain": [
       "<matplotlib.figure.Figure at 0x11f75b940>"
      ]
     },
     "metadata": {},
     "output_type": "display_data"
    },
    {
     "data": {
      "image/png": "[encoded data removed]",
      "text/plain": [
       "<matplotlib.figure.Figure at 0x11d45df28>"
      ]
     },
     "metadata": {},
     "output_type": "display_data"
    },
    {
     "data": {
      "image/png": "[encoded data removed]",
      "text/plain": [
       "<matplotlib.figure.Figure at 0x11e68cd30>"
      ]
     },
     "metadata": {},
     "output_type": "display_data"
    },
    {
     "data": {
      "image/png": "[encoded data removed]",
      "text/plain": [
       "<matplotlib.figure.Figure at 0x11d6244e0>"
      ]
     },
     "metadata": {},
     "output_type": "display_data"
    },
    {
     "data": {
      "image/png": "[encoded data removed]",
      "text/plain": [
       "<matplotlib.figure.Figure at 0x11dda3f28>"
      ]
     },
     "metadata": {},
     "output_type": "display_data"
    },
    {
     "data": {
      "image/png": "[encoded data removed]",
      "text/plain": [
       "<matplotlib.figure.Figure at 0x11f735f28>"
      ]
     },
     "metadata": {},
     "output_type": "display_data"
    },
    {
     "data": {
      "image/png": "[encoded data removed]",
      "text/plain": [
       "<matplotlib.figure.Figure at 0x11ef61b00>"
      ]
     },
     "metadata": {},
     "output_type": "display_data"
    },
    {
     "data": {
      "image/png": "[encoded data removed]",
      "text/plain": [
       "<matplotlib.figure.Figure at 0x11d673ef0>"
      ]
     },
     "metadata": {},
     "output_type": "display_data"
    },
    {
     "data": {
      "image/png": "[encoded data removed]",
      "text/plain": [
       "<matplotlib.figure.Figure at 0x11d4b7fd0>"
      ]
     },
     "metadata": {},
     "output_type": "display_data"
    },
    {
     "data": {
      "image/png": "[encoded data removed]",
      "text/plain": [
       "<matplotlib.figure.Figure at 0x11eb83940>"
      ]
     },
     "metadata": {},
     "output_type": "display_data"
    },
    {
     "data": {
      "image/png": "[encoded data removed]",
      "text/plain": [
       "<matplotlib.figure.Figure at 0x11d69ddd8>"
      ]
     },
     "metadata": {},
     "output_type": "display_data"
    },
    {
     "data": {
      "image/png": "[encoded data removed]",
      "text/plain": [
       "<matplotlib.figure.Figure at 0x11f139dd8>"
      ]
     },
     "metadata": {},
     "output_type": "display_data"
    }
   ],
   "source": [
    "%matplotlib inline\n",
    "import matplotlib.pylab as plt\n",
    "\n",
    "for i in range(20):\n",
    "    plt.figure(figsize=(3, 3))\n",
    "    plt.imshow(X[i])\n",
    "    plt.axis('off')\n",
    "    plt.show()"
   ]
  },
  {
   "cell_type": "code",
   "execution_count": null,
   "metadata": {
    "collapsed": true
   },
   "outputs": [],
   "source": []
  },
  {
   "cell_type": "code",
   "execution_count": 53,
   "metadata": {
    "collapsed": true
   },
   "outputs": [],
   "source": [
    "from sklearn.preprocessing import OneHotEncoder\n",
    "\n",
    "ohe = OneHotEncoder(sparse=False)\n",
    "Y = ohe.fit_transform(shapes.reshape(-1,1))"
   ]
  },
  {
   "cell_type": "code",
   "execution_count": 54,
   "metadata": {},
   "outputs": [
    {
     "name": "stdout",
     "output_type": "stream",
     "text": [
      "Epoch 1/80\n",
      "20/20 [==============================] - 8s - loss: 29.3215 - acc: 0.0500\n",
      "Epoch 2/80\n",
      "20/20 [==============================] - 4s - loss: 30.0771 - acc: 0.1500\n",
      "Epoch 3/80\n",
      "20/20 [==============================] - 4s - loss: 16.5861 - acc: 0.1000\n",
      "Epoch 4/80\n",
      "20/20 [==============================] - 4s - loss: 13.7754 - acc: 0.0500\n",
      "Epoch 5/80\n",
      "20/20 [==============================] - 4s - loss: 12.0612 - acc: 0.1000\n",
      "Epoch 6/80\n",
      "20/20 [==============================] - 4s - loss: 10.9946 - acc: 0.1000\n",
      "Epoch 7/80\n",
      "20/20 [==============================] - 4s - loss: 10.0860 - acc: 0.1500\n",
      "Epoch 8/80\n",
      "20/20 [==============================] - 4s - loss: 9.4348 - acc: 0.1000\n",
      "Epoch 9/80\n",
      "20/20 [==============================] - 4s - loss: 8.9409 - acc: 0.0500\n",
      "Epoch 10/80\n",
      "20/20 [==============================] - 4s - loss: 8.4070 - acc: 0.0500\n",
      "Epoch 11/80\n",
      "20/20 [==============================] - 4s - loss: 7.9500 - acc: 0.2500\n",
      "Epoch 12/80\n",
      "20/20 [==============================] - 4s - loss: 7.4575 - acc: 0.1000\n",
      "Epoch 13/80\n",
      "20/20 [==============================] - 4s - loss: 7.5116 - acc: 0.1500\n",
      "Epoch 14/80\n",
      "20/20 [==============================] - 4s - loss: 6.9473 - acc: 0.1500\n",
      "Epoch 15/80\n",
      "20/20 [==============================] - 4s - loss: 6.7424 - acc: 0.1500\n",
      "Epoch 16/80\n",
      "20/20 [==============================] - 4s - loss: 6.7159 - acc: 0.1000\n",
      "Epoch 17/80\n",
      "20/20 [==============================] - 4s - loss: 6.4165 - acc: 0.3000\n",
      "Epoch 18/80\n",
      "20/20 [==============================] - 4s - loss: 6.0223 - acc: 0.4000\n",
      "Epoch 19/80\n",
      "20/20 [==============================] - 4s - loss: 8.0207 - acc: 0.2500\n",
      "Epoch 20/80\n",
      "20/20 [==============================] - 4s - loss: 6.5275 - acc: 0.0500\n",
      "Epoch 21/80\n",
      "20/20 [==============================] - 4s - loss: 6.2370 - acc: 0.2500\n",
      "Epoch 22/80\n",
      "20/20 [==============================] - 4s - loss: 5.9823 - acc: 0.2500\n",
      "Epoch 23/80\n",
      "20/20 [==============================] - 4s - loss: 5.7869 - acc: 0.2000\n",
      "Epoch 24/80\n",
      "20/20 [==============================] - 4s - loss: 5.7111 - acc: 0.0500\n",
      "Epoch 25/80\n",
      "20/20 [==============================] - 4s - loss: 5.4827 - acc: 0.3500\n",
      "Epoch 26/80\n",
      "20/20 [==============================] - 5s - loss: 5.3157 - acc: 0.2500\n",
      "Epoch 27/80\n",
      "20/20 [==============================] - 4s - loss: 5.1123 - acc: 0.3500\n",
      "Epoch 28/80\n",
      "20/20 [==============================] - 4s - loss: 4.9079 - acc: 0.3500\n",
      "Epoch 29/80\n",
      "20/20 [==============================] - 4s - loss: 4.7712 - acc: 0.2000\n",
      "Epoch 30/80\n",
      "20/20 [==============================] - 4s - loss: 5.2999 - acc: 0.1000\n",
      "Epoch 31/80\n",
      "20/20 [==============================] - 4s - loss: 4.7660 - acc: 0.4500\n",
      "Epoch 32/80\n",
      "20/20 [==============================] - 4s - loss: 4.3399 - acc: 0.4500\n",
      "Epoch 33/80\n",
      "20/20 [==============================] - 4s - loss: 4.0402 - acc: 0.5500\n",
      "Epoch 34/80\n",
      "20/20 [==============================] - 4s - loss: 4.0380 - acc: 0.6000\n",
      "Epoch 35/80\n",
      "20/20 [==============================] - 4s - loss: 4.8046 - acc: 0.5000\n",
      "Epoch 36/80\n",
      "20/20 [==============================] - 4s - loss: 4.1966 - acc: 0.6500\n",
      "Epoch 37/80\n",
      "20/20 [==============================] - 4s - loss: 3.5426 - acc: 0.6000\n",
      "Epoch 38/80\n",
      "20/20 [==============================] - 4s - loss: 3.2342 - acc: 0.7500\n",
      "Epoch 39/80\n",
      "20/20 [==============================] - 5s - loss: 3.2097 - acc: 0.7000\n",
      "Epoch 40/80\n",
      "20/20 [==============================] - 4s - loss: 3.5515 - acc: 0.7500\n",
      "Epoch 41/80\n",
      "20/20 [==============================] - 5s - loss: 3.2079 - acc: 0.8500\n",
      "Epoch 42/80\n",
      "20/20 [==============================] - 4s - loss: 3.0661 - acc: 0.7500\n",
      "Epoch 43/80\n",
      "20/20 [==============================] - 4s - loss: 3.6761 - acc: 0.7500\n",
      "Epoch 44/80\n",
      "20/20 [==============================] - 4s - loss: 2.7409 - acc: 0.9000\n",
      "Epoch 45/80\n",
      "20/20 [==============================] - 4s - loss: 2.6740 - acc: 0.8500\n",
      "Epoch 46/80\n",
      "20/20 [==============================] - 4s - loss: 2.6739 - acc: 0.8000\n",
      "Epoch 47/80\n",
      "20/20 [==============================] - 4s - loss: 3.3971 - acc: 0.8000\n",
      "Epoch 48/80\n",
      "20/20 [==============================] - 4s - loss: 3.2845 - acc: 0.8000\n",
      "Epoch 49/80\n",
      "20/20 [==============================] - 4s - loss: 2.4503 - acc: 0.7500\n",
      "Epoch 50/80\n",
      "20/20 [==============================] - 4s - loss: 2.7619 - acc: 0.7000\n",
      "Epoch 51/80\n",
      "20/20 [==============================] - 4s - loss: 3.7279 - acc: 0.5500\n",
      "Epoch 52/80\n",
      "20/20 [==============================] - 4s - loss: 2.6589 - acc: 0.8000\n",
      "Epoch 53/80\n",
      "20/20 [==============================] - 4s - loss: 2.5263 - acc: 0.8500\n",
      "Epoch 54/80\n",
      "20/20 [==============================] - 4s - loss: 2.4984 - acc: 0.8000\n",
      "Epoch 55/80\n",
      "20/20 [==============================] - 4s - loss: 2.4177 - acc: 0.8500\n",
      "Epoch 56/80\n",
      "20/20 [==============================] - 4s - loss: 2.3138 - acc: 0.9500\n",
      "Epoch 57/80\n",
      "20/20 [==============================] - 4s - loss: 2.3580 - acc: 0.8500\n",
      "Epoch 58/80\n",
      "20/20 [==============================] - 4s - loss: 2.8410 - acc: 0.7000\n",
      "Epoch 59/80\n",
      "20/20 [==============================] - 4s - loss: 2.6515 - acc: 0.8000\n",
      "Epoch 60/80\n",
      "20/20 [==============================] - 4s - loss: 2.4483 - acc: 0.9000\n",
      "Epoch 61/80\n",
      "20/20 [==============================] - 4s - loss: 2.2875 - acc: 0.8500\n",
      "Epoch 62/80\n",
      "20/20 [==============================] - 4s - loss: 2.2650 - acc: 0.8500\n",
      "Epoch 63/80\n",
      "20/20 [==============================] - 5s - loss: 2.2744 - acc: 0.8500\n",
      "Epoch 64/80\n",
      "20/20 [==============================] - 4s - loss: 2.0975 - acc: 0.9000\n",
      "Epoch 65/80\n",
      "20/20 [==============================] - 4s - loss: 2.1545 - acc: 0.8500\n",
      "Epoch 66/80\n",
      "20/20 [==============================] - 4s - loss: 2.1381 - acc: 0.8000\n",
      "Epoch 67/80\n",
      "20/20 [==============================] - 4s - loss: 2.0067 - acc: 0.8500\n",
      "Epoch 68/80\n",
      "20/20 [==============================] - 4s - loss: 1.9624 - acc: 0.8500\n",
      "Epoch 69/80\n",
      "20/20 [==============================] - 4s - loss: 1.7941 - acc: 1.0000\n",
      "Epoch 70/80\n",
      "20/20 [==============================] - 4s - loss: 2.3370 - acc: 0.8000\n",
      "Epoch 71/80\n",
      "20/20 [==============================] - 4s - loss: 2.5284 - acc: 0.7500\n",
      "Epoch 72/80\n",
      "20/20 [==============================] - 4s - loss: 2.4900 - acc: 0.8000\n",
      "Epoch 73/80\n",
      "20/20 [==============================] - 4s - loss: 2.1921 - acc: 0.8000\n",
      "Epoch 74/80\n",
      "20/20 [==============================] - 4s - loss: 2.0288 - acc: 0.9000\n",
      "Epoch 75/80\n",
      "20/20 [==============================] - 5s - loss: 1.9857 - acc: 0.8500\n",
      "Epoch 76/80\n",
      "20/20 [==============================] - 5s - loss: 1.8880 - acc: 0.9000\n",
      "Epoch 77/80\n",
      "20/20 [==============================] - 4s - loss: 1.9007 - acc: 0.8500\n",
      "Epoch 78/80\n",
      "20/20 [==============================] - 4s - loss: 1.8204 - acc: 0.9000\n",
      "Epoch 79/80\n",
      "20/20 [==============================] - 4s - loss: 1.8134 - acc: 0.8500\n",
      "Epoch 80/80\n",
      "20/20 [==============================] - 4s - loss: 1.7907 - acc: 0.8000\n"
     ]
    },
    {
     "data": {
      "text/plain": [
       "<keras.callbacks.History at 0x11d6aefd0>"
      ]
     },
     "execution_count": 54,
     "metadata": {},
     "output_type": "execute_result"
    }
   ],
   "source": [
    "from learning2learn.models import simple_cnn\n",
    "\n",
    "input_shape = X.shape[1:]\n",
    "nb_classes = len(np.unique(shapes))\n",
    "model = simple_cnn(input_shape, nb_classes)\n",
    "model.fit(X, Y, epochs=80)"
   ]
  },
  {
   "cell_type": "code",
   "execution_count": null,
   "metadata": {
    "collapsed": true
   },
   "outputs": [],
   "source": []
  }
 ],
 "metadata": {
  "kernelspec": {
   "display_name": "Python 3",
   "language": "python",
   "name": "python3"
  },
  "language_info": {
   "codemirror_mode": {
    "name": "ipython",
    "version": 3
   },
   "file_extension": ".py",
   "mimetype": "text/x-python",
   "name": "python",
   "nbconvert_exporter": "python",
   "pygments_lexer": "ipython3",
   "version": "3.6.1"
  }
 },
 "nbformat": 4,
 "nbformat_minor": 2
}
