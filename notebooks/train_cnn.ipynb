{
 "cells": [
  {
   "cell_type": "code",
   "execution_count": 1,
   "metadata": {},
   "outputs": [
    {
     "name": "stderr",
     "output_type": "stream",
     "text": [
      "Using TensorFlow backend.\n"
     ]
    }
   ],
   "source": [
    "from __future__ import division, print_function\n",
    "import numpy as np\n",
    "import pandas as pd\n",
    "import os\n",
    "from keras.preprocessing import image\n",
    "from keras.applications.vgg16 import preprocess_input\n",
    "from sklearn.preprocessing import LabelEncoder\n",
    "from sklearn.preprocessing import OneHotEncoder"
   ]
  },
  {
   "cell_type": "code",
   "execution_count": 2,
   "metadata": {
    "collapsed": true
   },
   "outputs": [],
   "source": [
    "from keras.datasets import cifar10\n",
    "from keras.utils import np_utils\n",
    "\n",
    "def load_imgs(save_folder, img_size=(224, 224)):\n",
    "    imgs = []\n",
    "    files = [file for file in os.listdir(save_folder) if file.endswith('png')]\n",
    "    files = sorted(files)\n",
    "    for file in files:\n",
    "        img_path = os.path.join(save_folder, file)\n",
    "        img = image.load_img(img_path, target_size=img_size)\n",
    "        imgs.append(image.img_to_array(img))\n",
    "    imgs = np.asarray(imgs)\n",
    "    imgs /= 255.\n",
    "    \n",
    "    return imgs\n",
    "\n",
    "def data_cifar10():\n",
    "    \"\"\"\n",
    "    Preprocess CIFAR-10 dataset\n",
    "    \"\"\"\n",
    "    # the data, shuffled and split between train and test sets\n",
    "    (X_train, y_train), (X_test, y_test) = cifar10.load_data()\n",
    "    X_train = X_train.astype('float32')\n",
    "    X_test = X_test.astype('float32')\n",
    "    X_train /= 255\n",
    "    X_test /= 255\n",
    "\n",
    "    Y_train = np_utils.to_categorical(y_train, 10)\n",
    "    Y_test = np_utils.to_categorical(y_test, 10)\n",
    "\n",
    "    print(X_train.shape)\n",
    "    print(Y_train.shape)\n",
    "    print(X_test.shape)\n",
    "    print(Y_test.shape)\n",
    "    \n",
    "    return X_train, Y_train, X_test, Y_test"
   ]
  },
  {
   "cell_type": "code",
   "execution_count": 4,
   "metadata": {
    "collapsed": true
   },
   "outputs": [],
   "source": [
    "X = load_imgs('../data/images_ca0010_ex0002/', (200, 200))\n",
    "df = pd.read_csv('../data/images_ca0010_ex0002/data.csv', index_col=0)\n",
    "shapes = df['shape'].as_matrix()\n",
    "colors = df['color'].as_matrix()\n",
    "textures = df['texture'].as_matrix()"
   ]
  },
  {
   "cell_type": "code",
   "execution_count": 7,
   "metadata": {
    "collapsed": true
   },
   "outputs": [],
   "source": [
    "from sklearn.preprocessing import OneHotEncoder\n",
    "\n",
    "ohe = OneHotEncoder(sparse=False)\n",
    "Y = ohe.fit_transform(shapes.reshape(-1,1))"
   ]
  },
  {
   "cell_type": "code",
   "execution_count": 8,
   "metadata": {},
   "outputs": [
    {
     "data": {
      "text/plain": [
       "(20, 10)"
      ]
     },
     "execution_count": 8,
     "metadata": {},
     "output_type": "execute_result"
    }
   ],
   "source": [
    "Y.shape"
   ]
  },
  {
   "cell_type": "code",
   "execution_count": 9,
   "metadata": {},
   "outputs": [
    {
     "data": {
      "text/plain": [
       "(20, 200, 200, 3)"
      ]
     },
     "execution_count": 9,
     "metadata": {},
     "output_type": "execute_result"
    }
   ],
   "source": [
    "X.shape"
   ]
  },
  {
   "cell_type": "code",
   "execution_count": 10,
   "metadata": {
    "scrolled": false
   },
   "outputs": [
    {
     "data": {
      "image/png": "[encoded data removed]",
      "text/plain": [
       "<matplotlib.figure.Figure at 0x11dadcda0>"
      ]
     },
     "metadata": {},
     "output_type": "display_data"
    },
    {
     "data": {
      "image/png": "[encoded data removed]",
      "text/plain": [
       "<matplotlib.figure.Figure at 0x11df1ab38>"
      ]
     },
     "metadata": {},
     "output_type": "display_data"
    },
    {
     "data": {
      "image/png": "[encoded data removed]",
      "text/plain": [
       "<matplotlib.figure.Figure at 0x11e89feb8>"
      ]
     },
     "metadata": {},
     "output_type": "display_data"
    },
    {
     "data": {
      "image/png": "[encoded data removed]",
      "text/plain": [
       "<matplotlib.figure.Figure at 0x11f7a7fd0>"
      ]
     },
     "metadata": {},
     "output_type": "display_data"
    },
    {
     "data": {
      "image/png": "[encoded data removed]",
      "text/plain": [
       "<matplotlib.figure.Figure at 0x11e7301d0>"
      ]
     },
     "metadata": {},
     "output_type": "display_data"
    },
    {
     "data": {
      "image/png": "[encoded data removed]",
      "text/plain": [
       "<matplotlib.figure.Figure at 0x11def1198>"
      ]
     },
     "metadata": {},
     "output_type": "display_data"
    },
    {
     "data": {
      "image/png": "[encoded data removed]",
      "text/plain": [
       "<matplotlib.figure.Figure at 0x11e844ef0>"
      ]
     },
     "metadata": {},
     "output_type": "display_data"
    },
    {
     "data": {
      "image/png": "[encoded data removed]",
      "text/plain": [
       "<matplotlib.figure.Figure at 0x11f928c50>"
      ]
     },
     "metadata": {},
     "output_type": "display_data"
    },
    {
     "data": {
      "image/png": "[encoded data removed]",
      "text/plain": [
       "<matplotlib.figure.Figure at 0x11fafcf98>"
      ]
     },
     "metadata": {},
     "output_type": "display_data"
    },
    {
     "data": {
      "image/png": "[encoded data removed]",
      "text/plain": [
       "<matplotlib.figure.Figure at 0x11fccdeb8>"
      ]
     },
     "metadata": {},
     "output_type": "display_data"
    },
    {
     "data": {
      "image/png": "[encoded data removed]",
      "text/plain": [
       "<matplotlib.figure.Figure at 0x11fe915c0>"
      ]
     },
     "metadata": {},
     "output_type": "display_data"
    },
    {
     "data": {
      "image/png": "[encoded data removed]",
      "text/plain": [
       "<matplotlib.figure.Figure at 0x1200cee80>"
      ]
     },
     "metadata": {},
     "output_type": "display_data"
    },
    {
     "data": {
      "image/png": "[encoded data removed]",
      "text/plain": [
       "<matplotlib.figure.Figure at 0x12029dda0>"
      ]
     },
     "metadata": {},
     "output_type": "display_data"
    },
    {
     "data": {
      "image/png": "[encoded data removed]",
      "text/plain": [
       "<matplotlib.figure.Figure at 0x1203d1b70>"
      ]
     },
     "metadata": {},
     "output_type": "display_data"
    },
    {
     "data": {
      "image/png": "[encoded data removed]",
      "text/plain": [
       "<matplotlib.figure.Figure at 0x120621c88>"
      ]
     },
     "metadata": {},
     "output_type": "display_data"
    },
    {
     "data": {
      "image/png": "[encoded data removed]",
      "text/plain": [
       "<matplotlib.figure.Figure at 0x120847ba8>"
      ]
     },
     "metadata": {},
     "output_type": "display_data"
    },
    {
     "data": {
      "image/png": "[encoded data removed]",
      "text/plain": [
       "<matplotlib.figure.Figure at 0x120a1bf98>"
      ]
     },
     "metadata": {},
     "output_type": "display_data"
    },
    {
     "data": {
      "image/png": "[encoded data removed]",
      "text/plain": [
       "<matplotlib.figure.Figure at 0x1209930b8>"
      ]
     },
     "metadata": {},
     "output_type": "display_data"
    },
    {
     "data": {
      "image/png": "[encoded data removed]",
      "text/plain": [
       "<matplotlib.figure.Figure at 0x120203dd8>"
      ]
     },
     "metadata": {},
     "output_type": "display_data"
    },
    {
     "data": {
      "image/png": "[encoded data removed]",
      "text/plain": [
       "<matplotlib.figure.Figure at 0x1209a5f60>"
      ]
     },
     "metadata": {},
     "output_type": "display_data"
    }
   ],
   "source": [
    "%matplotlib inline\n",
    "import matplotlib.pylab as plt\n",
    "\n",
    "for i in range(20):\n",
    "    plt.figure(figsize=(3, 3))\n",
    "    plt.imshow(X[i])\n",
    "    plt.axis('off')\n",
    "    plt.show()"
   ]
  },
  {
   "cell_type": "code",
   "execution_count": 11,
   "metadata": {},
   "outputs": [
    {
     "name": "stdout",
     "output_type": "stream",
     "text": [
      "Epoch 1/80\n",
      "20/20 [==============================] - 8s - loss: 29.2917 - acc: 0.2000\n",
      "Epoch 2/80\n",
      "20/20 [==============================] - 4s - loss: 32.9523 - acc: 0.1500\n",
      "Epoch 3/80\n",
      "20/20 [==============================] - 4s - loss: 29.5234 - acc: 0.1000\n",
      "Epoch 4/80\n",
      "20/20 [==============================] - 4s - loss: 26.1952 - acc: 0.1000\n",
      "Epoch 5/80\n",
      "20/20 [==============================] - 4s - loss: 13.2558 - acc: 0.0500\n",
      "Epoch 6/80\n",
      "20/20 [==============================] - 4s - loss: 11.9724 - acc: 0.1000\n",
      "Epoch 7/80\n",
      "20/20 [==============================] - 4s - loss: 10.9448 - acc: 0.1500\n",
      "Epoch 8/80\n",
      "20/20 [==============================] - 4s - loss: 10.1663 - acc: 0.1000\n",
      "Epoch 9/80\n",
      "20/20 [==============================] - 4s - loss: 9.5390 - acc: 0.1500\n",
      "Epoch 10/80\n",
      "20/20 [==============================] - 4s - loss: 8.9999 - acc: 0.0500\n",
      "Epoch 11/80\n",
      "20/20 [==============================] - 5s - loss: 8.5251 - acc: 0.1500\n",
      "Epoch 12/80\n",
      "20/20 [==============================] - 5s - loss: 8.1958 - acc: 0.0500\n",
      "Epoch 13/80\n",
      "20/20 [==============================] - 4s - loss: 7.7973 - acc: 0.1000\n",
      "Epoch 14/80\n",
      "20/20 [==============================] - 5s - loss: 7.4492 - acc: 0.1500\n",
      "Epoch 15/80\n",
      "20/20 [==============================] - 4s - loss: 7.1797 - acc: 0.1000\n",
      "Epoch 16/80\n",
      "20/20 [==============================] - 4s - loss: 6.8942 - acc: 0.1000\n",
      "Epoch 17/80\n",
      "20/20 [==============================] - 4s - loss: 6.6306 - acc: 0.2000\n",
      "Epoch 18/80\n",
      "20/20 [==============================] - 4s - loss: 6.4611 - acc: 0.1000\n",
      "Epoch 19/80\n",
      "20/20 [==============================] - 4s - loss: 6.3898 - acc: 0.0500\n",
      "Epoch 20/80\n",
      "20/20 [==============================] - 4s - loss: 6.1535 - acc: 0.2500\n",
      "Epoch 21/80\n",
      "20/20 [==============================] - 4s - loss: 5.9380 - acc: 0.1000\n",
      "Epoch 22/80\n",
      "20/20 [==============================] - 4s - loss: 5.7824 - acc: 0.1500\n",
      "Epoch 23/80\n",
      "20/20 [==============================] - 4s - loss: 5.6044 - acc: 0.1000\n",
      "Epoch 24/80\n",
      "20/20 [==============================] - 5s - loss: 5.4635 - acc: 0.1000\n",
      "Epoch 25/80\n",
      "20/20 [==============================] - 5s - loss: 5.2759 - acc: 0.1000\n",
      "Epoch 26/80\n",
      "20/20 [==============================] - 4s - loss: 5.1412 - acc: 0.0500\n",
      "Epoch 27/80\n",
      "20/20 [==============================] - 4s - loss: 5.0021 - acc: 0.1000\n",
      "Epoch 28/80\n",
      "20/20 [==============================] - 4s - loss: 4.8799 - acc: 0.1000\n",
      "Epoch 29/80\n",
      "20/20 [==============================] - 4s - loss: 4.7888 - acc: 0.1500\n",
      "Epoch 30/80\n",
      "20/20 [==============================] - 4s - loss: 4.7352 - acc: 0.2000\n",
      "Epoch 31/80\n",
      "20/20 [==============================] - 4s - loss: 4.3351 - acc: 0.2500\n",
      "Epoch 32/80\n",
      "20/20 [==============================] - 4s - loss: 14.9552 - acc: 0.1000\n",
      "Epoch 33/80\n",
      "20/20 [==============================] - 4s - loss: 6.1964 - acc: 0.1000\n",
      "Epoch 34/80\n",
      "20/20 [==============================] - 4s - loss: 5.2881 - acc: 0.2000\n",
      "Epoch 35/80\n",
      "20/20 [==============================] - 4s - loss: 5.0826 - acc: 0.0500\n",
      "Epoch 36/80\n",
      "20/20 [==============================] - 4s - loss: 4.9266 - acc: 0.1000\n",
      "Epoch 37/80\n",
      "20/20 [==============================] - 4s - loss: 4.7973 - acc: 0.0500\n",
      "Epoch 38/80\n",
      "20/20 [==============================] - 4s - loss: 4.6911 - acc: 0.2500\n",
      "Epoch 39/80\n",
      "20/20 [==============================] - 4s - loss: 4.6120 - acc: 0.1000\n",
      "Epoch 40/80\n",
      "20/20 [==============================] - 4s - loss: 4.5335 - acc: 0.1000\n",
      "Epoch 41/80\n",
      "20/20 [==============================] - 4s - loss: 4.4179 - acc: 0.2000\n",
      "Epoch 42/80\n",
      "20/20 [==============================] - 4s - loss: 4.4872 - acc: 0.0500\n",
      "Epoch 43/80\n",
      "20/20 [==============================] - 5s - loss: 4.3576 - acc: 0.0500\n",
      "Epoch 44/80\n",
      "20/20 [==============================] - 5s - loss: 4.2509 - acc: 0.2500\n",
      "Epoch 45/80\n",
      "20/20 [==============================] - 5s - loss: 4.1835 - acc: 0.1500\n",
      "Epoch 46/80\n",
      "20/20 [==============================] - 4s - loss: 4.2276 - acc: 0.1500\n",
      "Epoch 47/80\n",
      "20/20 [==============================] - 5s - loss: 3.9017 - acc: 0.2000\n",
      "Epoch 48/80\n",
      "20/20 [==============================] - 5s - loss: 4.1119 - acc: 0.4000\n",
      "Epoch 49/80\n",
      "20/20 [==============================] - 5s - loss: 4.7914 - acc: 0.4500\n",
      "Epoch 50/80\n",
      "20/20 [==============================] - 4s - loss: 4.0462 - acc: 0.5000\n",
      "Epoch 51/80\n",
      "20/20 [==============================] - 5s - loss: 3.9282 - acc: 0.4500\n",
      "Epoch 52/80\n",
      "20/20 [==============================] - 5s - loss: 4.5000 - acc: 0.3500\n",
      "Epoch 53/80\n",
      "20/20 [==============================] - 4s - loss: 3.5137 - acc: 0.8000\n",
      "Epoch 54/80\n",
      "20/20 [==============================] - 4s - loss: 2.7594 - acc: 0.8500\n",
      "Epoch 55/80\n",
      "20/20 [==============================] - 4s - loss: 3.1994 - acc: 0.7500\n",
      "Epoch 56/80\n",
      "20/20 [==============================] - 4s - loss: 3.6425 - acc: 0.6000\n",
      "Epoch 57/80\n",
      "20/20 [==============================] - 4s - loss: 3.1173 - acc: 0.8000\n",
      "Epoch 58/80\n",
      "20/20 [==============================] - 4s - loss: 2.4150 - acc: 0.9500\n",
      "Epoch 59/80\n",
      "20/20 [==============================] - 4s - loss: 2.2850 - acc: 0.8500\n",
      "Epoch 60/80\n",
      "20/20 [==============================] - 4s - loss: 2.6660 - acc: 0.8000\n",
      "Epoch 61/80\n",
      "20/20 [==============================] - 5s - loss: 2.9824 - acc: 0.7000\n",
      "Epoch 62/80\n",
      "20/20 [==============================] - 4s - loss: 2.7097 - acc: 0.8000\n",
      "Epoch 63/80\n",
      "20/20 [==============================] - 4s - loss: 2.1848 - acc: 0.8500\n",
      "Epoch 64/80\n",
      "20/20 [==============================] - 4s - loss: 2.1477 - acc: 0.9500\n",
      "Epoch 65/80\n",
      "20/20 [==============================] - 4s - loss: 2.3511 - acc: 0.8500\n",
      "Epoch 66/80\n",
      "20/20 [==============================] - 4s - loss: 2.5389 - acc: 0.8500\n",
      "Epoch 67/80\n",
      "20/20 [==============================] - 4s - loss: 2.3080 - acc: 0.8500\n",
      "Epoch 68/80\n",
      "20/20 [==============================] - 4s - loss: 2.1231 - acc: 0.8500\n",
      "Epoch 69/80\n",
      "20/20 [==============================] - 4s - loss: 1.9886 - acc: 0.9000\n",
      "Epoch 70/80\n",
      "20/20 [==============================] - 4s - loss: 2.1819 - acc: 0.9500\n",
      "Epoch 71/80\n",
      "20/20 [==============================] - 4s - loss: 1.9117 - acc: 0.9000\n",
      "Epoch 72/80\n",
      "20/20 [==============================] - 4s - loss: 1.7847 - acc: 0.9500\n",
      "Epoch 73/80\n",
      "20/20 [==============================] - 4s - loss: 1.8117 - acc: 0.9500\n",
      "Epoch 74/80\n",
      "20/20 [==============================] - 4s - loss: 1.8258 - acc: 0.9500\n",
      "Epoch 75/80\n",
      "20/20 [==============================] - 4s - loss: 1.9132 - acc: 0.9000\n",
      "Epoch 76/80\n",
      "20/20 [==============================] - 4s - loss: 1.7023 - acc: 0.9500\n",
      "Epoch 77/80\n",
      "20/20 [==============================] - 4s - loss: 1.6537 - acc: 0.9500\n",
      "Epoch 78/80\n",
      "20/20 [==============================] - 4s - loss: 1.9615 - acc: 0.8000\n",
      "Epoch 79/80\n",
      "20/20 [==============================] - 4s - loss: 2.2120 - acc: 0.7500\n",
      "Epoch 80/80\n",
      "20/20 [==============================] - 4s - loss: 2.1171 - acc: 0.9000\n"
     ]
    },
    {
     "data": {
      "text/plain": [
       "<keras.callbacks.History at 0x11e031198>"
      ]
     },
     "execution_count": 11,
     "metadata": {},
     "output_type": "execute_result"
    }
   ],
   "source": [
    "from learning2learn.models import simple_cnn\n",
    "\n",
    "input_shape = X.shape[1:]\n",
    "nb_classes = len(np.unique(shapes))\n",
    "model = simple_cnn(input_shape, nb_classes)\n",
    "model.fit(X, Y, epochs=80)"
   ]
  },
  {
   "cell_type": "code",
   "execution_count": null,
   "metadata": {
    "collapsed": true
   },
   "outputs": [],
   "source": []
  },
  {
   "cell_type": "code",
   "execution_count": null,
   "metadata": {
    "collapsed": true
   },
   "outputs": [],
   "source": []
  }
 ],
 "metadata": {
  "kernelspec": {
   "display_name": "Python 3",
   "language": "python",
   "name": "python3"
  },
  "language_info": {
   "codemirror_mode": {
    "name": "ipython",
    "version": 3
   },
   "file_extension": ".py",
   "mimetype": "text/x-python",
   "name": "python",
   "nbconvert_exporter": "python",
   "pygments_lexer": "ipython3",
   "version": "3.6.1"
  }
 },
 "nbformat": 4,
 "nbformat_minor": 2
}
