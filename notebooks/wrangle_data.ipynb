{
 "cells": [
  {
   "cell_type": "code",
   "execution_count": 1,
   "metadata": {
    "collapsed": true
   },
   "outputs": [],
   "source": [
    "import pandas as pd\n",
    "import numpy as np\n",
    "import os"
   ]
  },
  {
   "cell_type": "code",
   "execution_count": 2,
   "metadata": {
    "collapsed": true
   },
   "outputs": [],
   "source": [
    "df = pd.read_csv(os.path.realpath('../data/smith_objects.csv'))\n",
    "labels = pd.read_csv(os.path.realpath('../data/smith_labels.csv'), header=None, squeeze=True)"
   ]
  },
  {
   "cell_type": "code",
   "execution_count": 3,
   "metadata": {
    "collapsed": false
   },
   "outputs": [],
   "source": [
    "df = pd.get_dummies(df, columns=['shape', 'color', 'texture'])"
   ]
  },
  {
   "cell_type": "code",
   "execution_count": 37,
   "metadata": {
    "collapsed": false
   },
   "outputs": [],
   "source": [
    "from keras.models import Sequential\n",
    "from keras.layers.core import Dense, Activation\n",
    "from keras.regularizers import l1, l2\n",
    "\n",
    "def build_model(n_in, n_classes):\n",
    "    model = Sequential()\n",
    "    model.add(Dense(30, input_dim=n_in, kernel_regularizer=l2(0.01),\n",
    "                    bias_regularizer=l2(0.01)))\n",
    "    model.add(Activation('relu'))\n",
    "    model.add(Dense(n_classes, kernel_regularizer=l2(0.01),\n",
    "                    bias_regularizer=l2(0.01)))\n",
    "    model.add(Activation('softmax'))\n",
    "    model.compile(\n",
    "        loss='categorical_crossentropy',\n",
    "        optimizer='rmsprop',\n",
    "        metrics=['accuracy']\n",
    "    )\n",
    "    return model"
   ]
  },
  {
   "cell_type": "code",
   "execution_count": 31,
   "metadata": {
    "collapsed": false
   },
   "outputs": [],
   "source": [
    "from sklearn.preprocessing import LabelEncoder, OneHotEncoder\n",
    "\n",
    "le = LabelEncoder()\n",
    "ohe = OneHotEncoder(sparse=False)\n",
    "Y = le.fit_transform(labels).reshape(-1,1)\n",
    "Y = ohe.fit_transform(y)"
   ]
  },
  {
   "cell_type": "code",
   "execution_count": 16,
   "metadata": {
    "collapsed": true
   },
   "outputs": [],
   "source": [
    "X = df.values"
   ]
  },
  {
   "cell_type": "code",
   "execution_count": 33,
   "metadata": {
    "collapsed": false
   },
   "outputs": [
    {
     "name": "stdout",
     "output_type": "stream",
     "text": [
      "(20, 27)\n",
      "(20, 10)\n"
     ]
    }
   ],
   "source": [
    "print X.shape\n",
    "print Y.shape"
   ]
  },
  {
   "cell_type": "code",
   "execution_count": 42,
   "metadata": {
    "collapsed": true
   },
   "outputs": [],
   "source": [
    "model = build_model(X.shape[-1], Y.shape[-1])"
   ]
  },
  {
   "cell_type": "code",
   "execution_count": 43,
   "metadata": {
    "collapsed": false
   },
   "outputs": [
    {
     "name": "stdout",
     "output_type": "stream",
     "text": [
      "Epoch 1/30\n",
      "20/20 [==============================] - 0s - loss: 2.8321 - acc: 0.0000e+00\n",
      "Epoch 2/30\n",
      "20/20 [==============================] - 0s - loss: 2.7917 - acc: 0.0000e+00\n",
      "Epoch 3/30\n",
      "20/20 [==============================] - 0s - loss: 2.7633 - acc: 0.0500\n",
      "Epoch 4/30\n",
      "20/20 [==============================] - 0s - loss: 2.7402 - acc: 0.1000\n",
      "Epoch 5/30\n",
      "20/20 [==============================] - 0s - loss: 2.7200 - acc: 0.1000\n",
      "Epoch 6/30\n",
      "20/20 [==============================] - 0s - loss: 2.7017 - acc: 0.1000\n",
      "Epoch 7/30\n",
      "20/20 [==============================] - 0s - loss: 2.6848 - acc: 0.1000\n",
      "Epoch 8/30\n",
      "20/20 [==============================] - 0s - loss: 2.6689 - acc: 0.2000\n",
      "Epoch 9/30\n",
      "20/20 [==============================] - 0s - loss: 2.6536 - acc: 0.2000\n",
      "Epoch 10/30\n",
      "20/20 [==============================] - 0s - loss: 2.6390 - acc: 0.2500\n",
      "Epoch 11/30\n",
      "20/20 [==============================] - 0s - loss: 2.6248 - acc: 0.2500\n",
      "Epoch 12/30\n",
      "20/20 [==============================] - 0s - loss: 2.6111 - acc: 0.2500\n",
      "Epoch 13/30\n",
      "20/20 [==============================] - 0s - loss: 2.5977 - acc: 0.2500\n",
      "Epoch 14/30\n",
      "20/20 [==============================] - 0s - loss: 2.5846 - acc: 0.2500\n",
      "Epoch 15/30\n",
      "20/20 [==============================] - 0s - loss: 2.5719 - acc: 0.3500\n",
      "Epoch 16/30\n",
      "20/20 [==============================] - 0s - loss: 2.5594 - acc: 0.3500\n",
      "Epoch 17/30\n",
      "20/20 [==============================] - 0s - loss: 2.5473 - acc: 0.3500\n",
      "Epoch 18/30\n",
      "20/20 [==============================] - 0s - loss: 2.5355 - acc: 0.3500\n",
      "Epoch 19/30\n",
      "20/20 [==============================] - 0s - loss: 2.5238 - acc: 0.3500\n",
      "Epoch 20/30\n",
      "20/20 [==============================] - 0s - loss: 2.5123 - acc: 0.4000\n",
      "Epoch 21/30\n",
      "20/20 [==============================] - 0s - loss: 2.5011 - acc: 0.4000\n",
      "Epoch 22/30\n",
      "20/20 [==============================] - 0s - loss: 2.4899 - acc: 0.4000\n",
      "Epoch 23/30\n",
      "20/20 [==============================] - 0s - loss: 2.4789 - acc: 0.4000\n",
      "Epoch 24/30\n",
      "20/20 [==============================] - 0s - loss: 2.4681 - acc: 0.4000\n",
      "Epoch 25/30\n",
      "20/20 [==============================] - 0s - loss: 2.4572 - acc: 0.4000\n",
      "Epoch 26/30\n",
      "20/20 [==============================] - 0s - loss: 2.4465 - acc: 0.4000\n",
      "Epoch 27/30\n",
      "20/20 [==============================] - 0s - loss: 2.4358 - acc: 0.4500\n",
      "Epoch 28/30\n",
      "20/20 [==============================] - 0s - loss: 2.4252 - acc: 0.4500\n",
      "Epoch 29/30\n",
      "20/20 [==============================] - 0s - loss: 2.4147 - acc: 0.4500\n",
      "Epoch 30/30\n",
      "20/20 [==============================] - 0s - loss: 2.4040 - acc: 0.4500\n"
     ]
    },
    {
     "data": {
      "text/plain": [
       "<keras.callbacks.History at 0x10c9ab250>"
      ]
     },
     "execution_count": 43,
     "metadata": {},
     "output_type": "execute_result"
    }
   ],
   "source": [
    "model.fit(X, Y, epochs=30)"
   ]
  },
  {
   "cell_type": "code",
   "execution_count": 44,
   "metadata": {
    "collapsed": false
   },
   "outputs": [
    {
     "name": "stdout",
     "output_type": "stream",
     "text": [
      "20/20 [==============================] - 0s\n"
     ]
    },
    {
     "data": {
      "text/plain": [
       "[2.3933818340301514, 0.44999998807907104]"
      ]
     },
     "execution_count": 44,
     "metadata": {},
     "output_type": "execute_result"
    }
   ],
   "source": [
    "model.evaluate(X, Y)"
   ]
  },
  {
   "cell_type": "code",
   "execution_count": null,
   "metadata": {
    "collapsed": true
   },
   "outputs": [],
   "source": []
  }
 ],
 "metadata": {
  "kernelspec": {
   "display_name": "Python 2",
   "language": "python",
   "name": "python2"
  },
  "language_info": {
   "codemirror_mode": {
    "name": "ipython",
    "version": 2
   },
   "file_extension": ".py",
   "mimetype": "text/x-python",
   "name": "python",
   "nbconvert_exporter": "python",
   "pygments_lexer": "ipython2",
   "version": "2.7.13"
  }
 },
 "nbformat": 4,
 "nbformat_minor": 0
}
