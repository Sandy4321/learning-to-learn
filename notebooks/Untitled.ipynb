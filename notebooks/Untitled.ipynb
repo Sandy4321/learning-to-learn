{
 "cells": [
  {
   "cell_type": "code",
   "execution_count": 1,
   "metadata": {
    "collapsed": true
   },
   "outputs": [],
   "source": [
    "import os\n",
    "import numpy as np\n",
    "import pandas as pd"
   ]
  },
  {
   "cell_type": "code",
   "execution_count": 2,
   "metadata": {
    "collapsed": true
   },
   "outputs": [],
   "source": [
    "def get_df(results, cats, exemps):\n",
    "    df = pd.DataFrame(index=exemps, columns=cats)\n",
    "    for i, cat in enumerate(cats):\n",
    "        for j, exe in enumerate(exemps):\n",
    "            df[cat].loc[exe] = results[i,j]\n",
    "    return df"
   ]
  },
  {
   "cell_type": "markdown",
   "metadata": {},
   "source": [
    "# Note: axis 0 is categories, axis 1 exemplars"
   ]
  },
  {
   "cell_type": "code",
   "execution_count": 69,
   "metadata": {
    "collapsed": true
   },
   "outputs": [],
   "source": [
    "folder = '/Users/reubenfeinman/Desktop/cnn_results_secondOrder/'\n",
    "results = np.load(os.path.join(folder, 'results.npy'))\n",
    "category_trials = np.load(os.path.join(folder, 'category_trials.npy'))\n",
    "exemplar_trials = np.load(os.path.join(folder, 'exemplar_trials.npy'))"
   ]
  },
  {
   "cell_type": "code",
   "execution_count": 51,
   "metadata": {},
   "outputs": [
    {
     "name": "stdout",
     "output_type": "stream",
     "text": [
      "categories:  [10 15 20 25]\n",
      "exemplars:  [ 5 10 15]\n"
     ]
    }
   ],
   "source": [
    "print('categories: ', category_trials)\n",
    "print('exemplars: ', exemplar_trials)"
   ]
  },
  {
   "cell_type": "code",
   "execution_count": null,
   "metadata": {
    "collapsed": true
   },
   "outputs": [],
   "source": [
    "# These are results for X_train definition inside the loop"
   ]
  },
  {
   "cell_type": "code",
   "execution_count": 45,
   "metadata": {},
   "outputs": [
    {
     "data": {
      "text/plain": [
       "array([[[ 0.5085,  0.3665,  0.352 ,  0.283 ,  0.529 ],\n",
       "        [ 0.544 ,  0.558 ,  0.516 ,  0.7185,  0.628 ],\n",
       "        [ 0.749 ,  0.64  ,  0.6315,  0.648 ,  0.6415]],\n",
       "\n",
       "       [[ 0.516 ,  0.5355,  0.578 ,  0.525 ,  0.5885],\n",
       "        [ 0.7705,  0.749 ,  0.7985,  0.846 ,  0.853 ],\n",
       "        [ 0.7505,  0.812 ,  0.7215,  0.7765,  0.854 ]],\n",
       "\n",
       "       [[ 0.539 ,  0.493 ,  0.3515,  0.5195,  0.3235],\n",
       "        [ 0.8435,  0.7525,  0.819 ,  0.7945,  0.785 ],\n",
       "        [ 0.8615,  0.893 ,  0.854 ,  0.8595,  0.8695]],\n",
       "\n",
       "       [[ 0.512 ,  0.5285,  0.669 ,  0.3325,  0.658 ],\n",
       "        [ 0.814 ,  0.805 ,  0.8365,  0.779 ,  0.814 ],\n",
       "        [ 0.8955,  0.8585,  0.911 ,  0.858 ,  0.8585]]])"
      ]
     },
     "execution_count": 45,
     "metadata": {},
     "output_type": "execute_result"
    }
   ],
   "source": [
    "results"
   ]
  },
  {
   "cell_type": "code",
   "execution_count": 46,
   "metadata": {},
   "outputs": [
    {
     "data": {
      "text/plain": [
       "array([[ 0.4078,  0.5929,  0.662 ],\n",
       "       [ 0.5486,  0.8034,  0.7829],\n",
       "       [ 0.4453,  0.7989,  0.8675],\n",
       "       [ 0.54  ,  0.8097,  0.8763]])"
      ]
     },
     "execution_count": 46,
     "metadata": {},
     "output_type": "execute_result"
    }
   ],
   "source": [
    "results.mean(axis=2)"
   ]
  },
  {
   "cell_type": "code",
   "execution_count": null,
   "metadata": {
    "collapsed": true
   },
   "outputs": [],
   "source": [
    "# These are results for X_train definition outside the loop (TBD)"
   ]
  },
  {
   "cell_type": "code",
   "execution_count": 70,
   "metadata": {},
   "outputs": [
    {
     "data": {
      "text/plain": [
       "array([[[ 0.3665,  0.3275,  0.2965,  0.3425,  0.3415],\n",
       "        [ 0.6445,  0.64  ,  0.667 ,  0.445 ,  0.5395],\n",
       "        [ 0.7165,  0.6525,  0.688 ,  0.7035,  0.71  ]],\n",
       "\n",
       "       [[ 0.471 ,  0.474 ,  0.492 ,  0.5845,  0.6095],\n",
       "        [ 0.771 ,  0.7975,  0.684 ,  0.857 ,  0.7585],\n",
       "        [ 0.8105,  0.8375,  0.8115,  0.8425,  0.8345]],\n",
       "\n",
       "       [[ 0.512 ,  0.5485,  0.399 ,  0.584 ,  0.408 ],\n",
       "        [ 0.8245,  0.8125,  0.731 ,  0.7855,  0.781 ],\n",
       "        [ 0.8875,  0.8925,  0.8605,  0.884 ,  0.906 ]],\n",
       "\n",
       "       [[ 0.5255,  0.398 ,  0.57  ,  0.392 ,  0.3565],\n",
       "        [ 0.762 ,  0.757 ,  0.8095,  0.8255,  0.8245],\n",
       "        [ 0.896 ,  0.8885,  0.8855,  0.9145,  0.9085]]])"
      ]
     },
     "execution_count": 70,
     "metadata": {},
     "output_type": "execute_result"
    }
   ],
   "source": [
    "results"
   ]
  },
  {
   "cell_type": "code",
   "execution_count": 71,
   "metadata": {},
   "outputs": [
    {
     "data": {
      "text/plain": [
       "array([[ 0.3349,  0.5872,  0.6941],\n",
       "       [ 0.5262,  0.7736,  0.8273],\n",
       "       [ 0.4903,  0.7869,  0.8861],\n",
       "       [ 0.4484,  0.7957,  0.8986]])"
      ]
     },
     "execution_count": 71,
     "metadata": {},
     "output_type": "execute_result"
    }
   ],
   "source": [
    "results.mean(axis=2)"
   ]
  },
  {
   "cell_type": "code",
   "execution_count": 72,
   "metadata": {
    "collapsed": true
   },
   "outputs": [],
   "source": [
    "folder = '/Users/reubenfeinman/Desktop/cnn_results_secondOrder/'\n",
    "results = np.load(os.path.join(folder, 'results.npy'))\n",
    "category_trials = np.load(os.path.join(folder, 'category_trials.npy'))\n",
    "exemplar_trials = np.load(os.path.join(folder, 'exemplar_trials.npy'))"
   ]
  },
  {
   "cell_type": "code",
   "execution_count": 74,
   "metadata": {},
   "outputs": [
    {
     "data": {
      "text/plain": [
       "array([[ 0.3315,  0.4224,  0.4416,  0.5025,  0.4401],\n",
       "       [ 0.6147,  0.6929,  0.6906,  0.6964,  0.6941],\n",
       "       [ 0.7735,  0.8178,  0.8097,  0.8454,  0.7791],\n",
       "       [ 0.7488,  0.8401,  0.8469,  0.8578,  0.8783],\n",
       "       [ 0.7674,  0.7892,  0.853 ,  0.8812,  0.8973],\n",
       "       [ 0.7613,  0.8831,  0.8588,  0.877 ,  0.9063]])"
      ]
     },
     "execution_count": 74,
     "metadata": {},
     "output_type": "execute_result"
    }
   ],
   "source": [
    "results.mean(axis=2)"
   ]
  },
  {
   "cell_type": "markdown",
   "metadata": {},
   "source": [
    "# First order results"
   ]
  },
  {
   "cell_type": "code",
   "execution_count": 75,
   "metadata": {
    "collapsed": true
   },
   "outputs": [],
   "source": [
    "folder = '/Users/reubenfeinman/Desktop/cnn_results_firstOrder/'\n",
    "results_gen = np.load(os.path.join(folder, 'results_gen.npy'))\n",
    "results_acc = np.load(os.path.join(folder, 'results_acc.npy'))\n",
    "category_trials = np.load(os.path.join(folder, 'category_trials.npy'))\n",
    "exemplar_trials = np.load(os.path.join(folder, 'exemplar_trials.npy'))"
   ]
  },
  {
   "cell_type": "code",
   "execution_count": 76,
   "metadata": {},
   "outputs": [
    {
     "data": {
      "text/plain": [
       "array([[[ 0.7615,  0.693 ,  0.7885,  0.8015,  0.8065],\n",
       "        [ 0.8305,  0.804 ,  0.809 ,  0.815 ,  0.7315],\n",
       "        [ 0.8615,  0.833 ,  0.7975,  0.791 ,  0.8115],\n",
       "        [ 0.8885,  0.8995,  0.81  ,  0.8595,  0.8675],\n",
       "        [ 0.845 ,  0.8175,  0.765 ,  0.8945,  0.797 ]],\n",
       "\n",
       "       [[ 0.876 ,  0.8775,  0.8355,  0.91  ,  0.9225],\n",
       "        [ 0.883 ,  0.946 ,  0.885 ,  0.948 ,  0.949 ],\n",
       "        [ 0.956 ,  0.956 ,  0.9415,  0.964 ,  0.966 ],\n",
       "        [ 0.95  ,  0.964 ,  0.944 ,  0.952 ,  0.9515],\n",
       "        [ 0.965 ,  0.926 ,  0.9465,  0.901 ,  0.928 ]],\n",
       "\n",
       "       [[ 0.8595,  0.83  ,  0.859 ,  0.8435,  0.8445],\n",
       "        [ 0.923 ,  0.8745,  0.9035,  0.9025,  0.892 ],\n",
       "        [ 0.921 ,  0.8705,  0.904 ,  0.9285,  0.9105],\n",
       "        [ 0.9325,  0.93  ,  0.916 ,  0.9225,  0.9305],\n",
       "        [ 0.9335,  0.936 ,  0.9225,  0.9415,  0.941 ]],\n",
       "\n",
       "       [[ 0.897 ,  0.8535,  0.8625,  0.899 ,  0.8675],\n",
       "        [ 0.925 ,  0.937 ,  0.946 ,  0.9135,  0.89  ],\n",
       "        [ 0.9395,  0.9425,  0.948 ,  0.946 ,  0.9535],\n",
       "        [ 0.9275,  0.9175,  0.937 ,  0.9135,  0.927 ],\n",
       "        [ 0.968 ,  0.9395,  0.9665,  0.9465,  0.961 ]],\n",
       "\n",
       "       [[ 0.856 ,  0.78  ,  0.828 ,  0.807 ,  0.784 ],\n",
       "        [ 0.91  ,  0.87  ,  0.903 ,  0.902 ,  0.914 ],\n",
       "        [ 0.9365,  0.923 ,  0.9285,  0.906 ,  0.9335],\n",
       "        [ 0.9275,  0.933 ,  0.952 ,  0.945 ,  0.9525],\n",
       "        [ 0.909 ,  0.93  ,  0.93  ,  0.9105,  0.9235]],\n",
       "\n",
       "       [[ 0.9115,  0.867 ,  0.8125,  0.8645,  0.863 ],\n",
       "        [ 0.929 ,  0.9415,  0.929 ,  0.913 ,  0.9235],\n",
       "        [ 0.9275,  0.9295,  0.9375,  0.9325,  0.9355],\n",
       "        [ 0.915 ,  0.945 ,  0.936 ,  0.936 ,  0.9395],\n",
       "        [ 0.9225,  0.916 ,  0.9285,  0.9265,  0.9095]]])"
      ]
     },
     "execution_count": 76,
     "metadata": {},
     "output_type": "execute_result"
    }
   ],
   "source": [
    "results_gen"
   ]
  },
  {
   "cell_type": "code",
   "execution_count": 78,
   "metadata": {},
   "outputs": [
    {
     "data": {
      "text/plain": [
       "array([[ 0.7702,  0.798 ,  0.8189,  0.865 ,  0.8238],\n",
       "       [ 0.8843,  0.9222,  0.9567,  0.9523,  0.9333],\n",
       "       [ 0.8473,  0.8991,  0.9069,  0.9263,  0.9349],\n",
       "       [ 0.8759,  0.9223,  0.9459,  0.9245,  0.9563],\n",
       "       [ 0.811 ,  0.8998,  0.9255,  0.942 ,  0.9206],\n",
       "       [ 0.8637,  0.9272,  0.9325,  0.9343,  0.9206]])"
      ]
     },
     "execution_count": 78,
     "metadata": {},
     "output_type": "execute_result"
    }
   ],
   "source": [
    "results_gen.mean(axis=2)"
   ]
  },
  {
   "cell_type": "markdown",
   "metadata": {},
   "source": [
    "# Combined"
   ]
  },
  {
   "cell_type": "code",
   "execution_count": 3,
   "metadata": {},
   "outputs": [
    {
     "name": "stdout",
     "output_type": "stream",
     "text": [
      "categories:  [ 3  6  9 12 15 18]\n",
      "exemplars:  [ 2  4  8 16 32 50]\n"
     ]
    }
   ],
   "source": [
    "folder = '/Users/reubenfeinman/Desktop/cnn_results_combined/'\n",
    "results_o1_gen = np.load(os.path.join(folder, 'results_o1_gen.npy'))\n",
    "results_o1_acc = np.load(os.path.join(folder, 'results_o1_acc.npy'))\n",
    "results_o2_gen = np.load(os.path.join(folder, 'results_o2_gen.npy'))\n",
    "category_trials = np.load(os.path.join(folder, 'category_trials.npy'))\n",
    "exemplar_trials = np.load(os.path.join(folder, 'exemplar_trials.npy'))\n",
    "print('categories: ', category_trials)\n",
    "print('exemplars: ', exemplar_trials)"
   ]
  },
  {
   "cell_type": "code",
   "execution_count": 4,
   "metadata": {},
   "outputs": [
    {
     "data": {
      "text/plain": [
       "array([[ 0.3222,  0.4866,  0.7136,  0.8626,  0.8771,  0.7858],\n",
       "       [ 0.3297,  0.4999,  0.6431,  0.787 ,  0.7635,  0.8182],\n",
       "       [ 0.3112,  0.5354,  0.7797,  0.8346,  0.8943,  0.8951],\n",
       "       [ 0.1977,  0.4906,  0.8028,  0.9097,  0.9304,  0.9303],\n",
       "       [ 0.2148,  0.4843,  0.8447,  0.914 ,  0.9386,  0.961 ],\n",
       "       [ 0.1265,  0.5079,  0.7373,  0.897 ,  0.9214,  0.9433]])"
      ]
     },
     "execution_count": 4,
     "metadata": {},
     "output_type": "execute_result"
    }
   ],
   "source": [
    "results_o1_gen.mean(axis=2)"
   ]
  },
  {
   "cell_type": "code",
   "execution_count": 5,
   "metadata": {},
   "outputs": [
    {
     "data": {
      "text/plain": [
       "array([[ 0.6364,  0.9087,  0.9747,  0.9957,  0.9924,  0.8516],\n",
       "       [ 0.4399,  0.6664,  0.7843,  0.8962,  0.8082,  0.8853],\n",
       "       [ 0.4566,  0.7309,  0.8748,  0.8985,  0.9357,  0.9418],\n",
       "       [ 0.335 ,  0.6331,  0.9009,  0.9735,  0.9885,  0.9907],\n",
       "       [ 0.4368,  0.7305,  0.9562,  0.9855,  0.9846,  0.9996],\n",
       "       [ 0.2006,  0.5518,  0.7927,  0.9341,  0.9845,  0.9923]])"
      ]
     },
     "execution_count": 5,
     "metadata": {},
     "output_type": "execute_result"
    }
   ],
   "source": [
    "results_o1_acc.mean(axis=2)"
   ]
  },
  {
   "cell_type": "code",
   "execution_count": 6,
   "metadata": {},
   "outputs": [
    {
     "data": {
      "text/plain": [
       "array([[ 0.2203,  0.364 ,  0.5804,  0.7035,  0.7182,  0.6259],\n",
       "       [ 0.1538,  0.2762,  0.3696,  0.4659,  0.4326,  0.4293],\n",
       "       [ 0.1813,  0.3568,  0.5579,  0.619 ,  0.7022,  0.6961],\n",
       "       [ 0.1273,  0.3809,  0.6922,  0.8484,  0.8303,  0.8209],\n",
       "       [ 0.1408,  0.3998,  0.7842,  0.8011,  0.8323,  0.8952],\n",
       "       [ 0.11  ,  0.3978,  0.6449,  0.7849,  0.857 ,  0.8833]])"
      ]
     },
     "execution_count": 6,
     "metadata": {},
     "output_type": "execute_result"
    }
   ],
   "source": [
    "results_o2_gen.mean(axis=2)"
   ]
  },
  {
   "cell_type": "markdown",
   "metadata": {},
   "source": [
    "# Try smaller model (CNN5)"
   ]
  },
  {
   "cell_type": "code",
   "execution_count": 16,
   "metadata": {},
   "outputs": [
    {
     "name": "stdout",
     "output_type": "stream",
     "text": [
      "category trials:  [ 2  4  8 16 32 50]\n",
      "exemplar trials:  [ 3  6  9 12 15 18]\n"
     ]
    }
   ],
   "source": [
    "folder = '../results/cnn_results_combined/'\n",
    "results_o1_gen = np.load(os.path.join(folder, 'results_o1_gen.npy'))\n",
    "results_o1_acc = np.load(os.path.join(folder, 'results_o1_acc.npy'))\n",
    "results_o2_gen = np.load(os.path.join(folder, 'results_o2_gen.npy'))\n",
    "category_trials = np.load(os.path.join(folder, 'category_trials.npy'))\n",
    "exemplar_trials = np.load(os.path.join(folder, 'exemplar_trials.npy'))\n",
    "print('category trials: ', category_trials)\n",
    "print('exemplar trials: ', exemplar_trials)"
   ]
  },
  {
   "cell_type": "code",
   "execution_count": 17,
   "metadata": {},
   "outputs": [
    {
     "data": {
      "text/html": [
       "<div>\n",
       "<style>\n",
       "    .dataframe thead tr:only-child th {\n",
       "        text-align: right;\n",
       "    }\n",
       "\n",
       "    .dataframe thead th {\n",
       "        text-align: left;\n",
       "    }\n",
       "\n",
       "    .dataframe tbody tr th {\n",
       "        vertical-align: top;\n",
       "    }\n",
       "</style>\n",
       "<table border=\"1\" class=\"dataframe\">\n",
       "  <thead>\n",
       "    <tr style=\"text-align: right;\">\n",
       "      <th></th>\n",
       "      <th>2</th>\n",
       "      <th>4</th>\n",
       "      <th>8</th>\n",
       "      <th>16</th>\n",
       "      <th>32</th>\n",
       "      <th>50</th>\n",
       "    </tr>\n",
       "  </thead>\n",
       "  <tbody>\n",
       "    <tr>\n",
       "      <th>3</th>\n",
       "      <td>0.58355</td>\n",
       "      <td>0.61275</td>\n",
       "      <td>0.7473</td>\n",
       "      <td>0.59785</td>\n",
       "      <td>0.7554</td>\n",
       "      <td>0.76015</td>\n",
       "    </tr>\n",
       "    <tr>\n",
       "      <th>6</th>\n",
       "      <td>0.6249</td>\n",
       "      <td>0.80675</td>\n",
       "      <td>0.92635</td>\n",
       "      <td>0.82655</td>\n",
       "      <td>0.8938</td>\n",
       "      <td>0.92945</td>\n",
       "    </tr>\n",
       "    <tr>\n",
       "      <th>9</th>\n",
       "      <td>0.6733</td>\n",
       "      <td>0.8528</td>\n",
       "      <td>0.9488</td>\n",
       "      <td>0.8566</td>\n",
       "      <td>0.95605</td>\n",
       "      <td>0.97285</td>\n",
       "    </tr>\n",
       "    <tr>\n",
       "      <th>12</th>\n",
       "      <td>0.67845</td>\n",
       "      <td>0.8757</td>\n",
       "      <td>0.95645</td>\n",
       "      <td>0.87545</td>\n",
       "      <td>0.96735</td>\n",
       "      <td>0.98275</td>\n",
       "    </tr>\n",
       "    <tr>\n",
       "      <th>15</th>\n",
       "      <td>0.6883</td>\n",
       "      <td>0.87955</td>\n",
       "      <td>0.96035</td>\n",
       "      <td>0.9447</td>\n",
       "      <td>0.97365</td>\n",
       "      <td>0.98575</td>\n",
       "    </tr>\n",
       "    <tr>\n",
       "      <th>18</th>\n",
       "      <td>0.7082</td>\n",
       "      <td>0.9244</td>\n",
       "      <td>0.9804</td>\n",
       "      <td>0.93035</td>\n",
       "      <td>0.9811</td>\n",
       "      <td>0.98325</td>\n",
       "    </tr>\n",
       "  </tbody>\n",
       "</table>\n",
       "</div>"
      ],
      "text/plain": [
       "         2        4        8        16       32       50\n",
       "3   0.58355  0.61275   0.7473  0.59785   0.7554  0.76015\n",
       "6    0.6249  0.80675  0.92635  0.82655   0.8938  0.92945\n",
       "9    0.6733   0.8528   0.9488   0.8566  0.95605  0.97285\n",
       "12  0.67845   0.8757  0.95645  0.87545  0.96735  0.98275\n",
       "15   0.6883  0.87955  0.96035   0.9447  0.97365  0.98575\n",
       "18   0.7082   0.9244   0.9804  0.93035   0.9811  0.98325"
      ]
     },
     "execution_count": 17,
     "metadata": {},
     "output_type": "execute_result"
    }
   ],
   "source": [
    "get_df(results_o1_gen.mean(axis=2), category_trials, exemplar_trials)"
   ]
  },
  {
   "cell_type": "code",
   "execution_count": 18,
   "metadata": {},
   "outputs": [
    {
     "data": {
      "text/html": [
       "<div>\n",
       "<style>\n",
       "    .dataframe thead tr:only-child th {\n",
       "        text-align: right;\n",
       "    }\n",
       "\n",
       "    .dataframe thead th {\n",
       "        text-align: left;\n",
       "    }\n",
       "\n",
       "    .dataframe tbody tr th {\n",
       "        vertical-align: top;\n",
       "    }\n",
       "</style>\n",
       "<table border=\"1\" class=\"dataframe\">\n",
       "  <thead>\n",
       "    <tr style=\"text-align: right;\">\n",
       "      <th></th>\n",
       "      <th>2</th>\n",
       "      <th>4</th>\n",
       "      <th>8</th>\n",
       "      <th>16</th>\n",
       "      <th>32</th>\n",
       "      <th>50</th>\n",
       "    </tr>\n",
       "  </thead>\n",
       "  <tbody>\n",
       "    <tr>\n",
       "      <th>3</th>\n",
       "      <td>0.32125</td>\n",
       "      <td>0.5174</td>\n",
       "      <td>0.5602</td>\n",
       "      <td>0.42435</td>\n",
       "      <td>0.7126</td>\n",
       "      <td>0.7179</td>\n",
       "    </tr>\n",
       "    <tr>\n",
       "      <th>6</th>\n",
       "      <td>0.3204</td>\n",
       "      <td>0.66855</td>\n",
       "      <td>0.73925</td>\n",
       "      <td>0.67745</td>\n",
       "      <td>0.83525</td>\n",
       "      <td>0.91285</td>\n",
       "    </tr>\n",
       "    <tr>\n",
       "      <th>9</th>\n",
       "      <td>0.31875</td>\n",
       "      <td>0.7409</td>\n",
       "      <td>0.7574</td>\n",
       "      <td>0.7167</td>\n",
       "      <td>0.90635</td>\n",
       "      <td>0.9488</td>\n",
       "    </tr>\n",
       "    <tr>\n",
       "      <th>12</th>\n",
       "      <td>0.3151</td>\n",
       "      <td>0.7263</td>\n",
       "      <td>0.7753</td>\n",
       "      <td>0.73195</td>\n",
       "      <td>0.93145</td>\n",
       "      <td>0.956</td>\n",
       "    </tr>\n",
       "    <tr>\n",
       "      <th>15</th>\n",
       "      <td>0.32045</td>\n",
       "      <td>0.725</td>\n",
       "      <td>0.81545</td>\n",
       "      <td>0.8703</td>\n",
       "      <td>0.9543</td>\n",
       "      <td>0.96375</td>\n",
       "    </tr>\n",
       "    <tr>\n",
       "      <th>18</th>\n",
       "      <td>0.30705</td>\n",
       "      <td>0.7831</td>\n",
       "      <td>0.82365</td>\n",
       "      <td>0.83465</td>\n",
       "      <td>0.9513</td>\n",
       "      <td>0.96555</td>\n",
       "    </tr>\n",
       "  </tbody>\n",
       "</table>\n",
       "</div>"
      ],
      "text/plain": [
       "         2        4        8        16       32       50\n",
       "3   0.32125   0.5174   0.5602  0.42435   0.7126   0.7179\n",
       "6    0.3204  0.66855  0.73925  0.67745  0.83525  0.91285\n",
       "9   0.31875   0.7409   0.7574   0.7167  0.90635   0.9488\n",
       "12   0.3151   0.7263   0.7753  0.73195  0.93145    0.956\n",
       "15  0.32045    0.725  0.81545   0.8703   0.9543  0.96375\n",
       "18  0.30705   0.7831  0.82365  0.83465   0.9513  0.96555"
      ]
     },
     "execution_count": 18,
     "metadata": {},
     "output_type": "execute_result"
    }
   ],
   "source": [
    "get_df(results_o2_gen.mean(axis=2), category_trials, exemplar_trials)"
   ]
  },
  {
   "cell_type": "markdown",
   "metadata": {},
   "source": [
    "# Smaller model, SGD"
   ]
  },
  {
   "cell_type": "code",
   "execution_count": 7,
   "metadata": {},
   "outputs": [
    {
     "name": "stdout",
     "output_type": "stream",
     "text": [
      "categories:  [ 2  4  8 16 32 50]\n",
      "exemplars:  [ 3  6  9 12 15 18]\n"
     ]
    }
   ],
   "source": [
    "folder = '../results/cnn_results_combined_sgd/'\n",
    "results_o1_gen = np.load(os.path.join(folder, 'results_o1_gen.npy'))\n",
    "results_o1_acc = np.load(os.path.join(folder, 'results_o1_acc.npy'))\n",
    "results_o2_gen = np.load(os.path.join(folder, 'results_o2_gen.npy'))\n",
    "category_trials = np.load(os.path.join(folder, 'category_trials.npy'))\n",
    "exemplar_trials = np.load(os.path.join(folder, 'exemplar_trials.npy'))\n",
    "print('categories: ', category_trials)\n",
    "print('exemplars: ', exemplar_trials)"
   ]
  },
  {
   "cell_type": "code",
   "execution_count": 8,
   "metadata": {},
   "outputs": [
    {
     "data": {
      "text/html": [
       "<div>\n",
       "<style>\n",
       "    .dataframe thead tr:only-child th {\n",
       "        text-align: right;\n",
       "    }\n",
       "\n",
       "    .dataframe thead th {\n",
       "        text-align: left;\n",
       "    }\n",
       "\n",
       "    .dataframe tbody tr th {\n",
       "        vertical-align: top;\n",
       "    }\n",
       "</style>\n",
       "<table border=\"1\" class=\"dataframe\">\n",
       "  <thead>\n",
       "    <tr style=\"text-align: right;\">\n",
       "      <th></th>\n",
       "      <th>2</th>\n",
       "      <th>4</th>\n",
       "      <th>8</th>\n",
       "      <th>16</th>\n",
       "      <th>32</th>\n",
       "      <th>50</th>\n",
       "    </tr>\n",
       "  </thead>\n",
       "  <tbody>\n",
       "    <tr>\n",
       "      <th>3</th>\n",
       "      <td>0.55395</td>\n",
       "      <td>0.71015</td>\n",
       "      <td>0.7903</td>\n",
       "      <td>0.64445</td>\n",
       "      <td>0.732</td>\n",
       "      <td>0.77125</td>\n",
       "    </tr>\n",
       "    <tr>\n",
       "      <th>6</th>\n",
       "      <td>0.6729</td>\n",
       "      <td>0.8586</td>\n",
       "      <td>0.93535</td>\n",
       "      <td>0.81975</td>\n",
       "      <td>0.91895</td>\n",
       "      <td>0.9371</td>\n",
       "    </tr>\n",
       "    <tr>\n",
       "      <th>9</th>\n",
       "      <td>0.6811</td>\n",
       "      <td>0.87455</td>\n",
       "      <td>0.94625</td>\n",
       "      <td>0.91205</td>\n",
       "      <td>0.95375</td>\n",
       "      <td>0.96545</td>\n",
       "    </tr>\n",
       "    <tr>\n",
       "      <th>12</th>\n",
       "      <td>0.6464</td>\n",
       "      <td>0.9187</td>\n",
       "      <td>0.9726</td>\n",
       "      <td>0.9253</td>\n",
       "      <td>0.97315</td>\n",
       "      <td>0.98785</td>\n",
       "    </tr>\n",
       "    <tr>\n",
       "      <th>15</th>\n",
       "      <td>0.69515</td>\n",
       "      <td>0.9069</td>\n",
       "      <td>0.96755</td>\n",
       "      <td>0.93845</td>\n",
       "      <td>0.9831</td>\n",
       "      <td>0.98605</td>\n",
       "    </tr>\n",
       "    <tr>\n",
       "      <th>18</th>\n",
       "      <td>0.7245</td>\n",
       "      <td>0.92605</td>\n",
       "      <td>0.98035</td>\n",
       "      <td>0.9493</td>\n",
       "      <td>0.98395</td>\n",
       "      <td>0.9824</td>\n",
       "    </tr>\n",
       "  </tbody>\n",
       "</table>\n",
       "</div>"
      ],
      "text/plain": [
       "         2        4        8        16       32       50\n",
       "3   0.55395  0.71015   0.7903  0.64445    0.732  0.77125\n",
       "6    0.6729   0.8586  0.93535  0.81975  0.91895   0.9371\n",
       "9    0.6811  0.87455  0.94625  0.91205  0.95375  0.96545\n",
       "12   0.6464   0.9187   0.9726   0.9253  0.97315  0.98785\n",
       "15  0.69515   0.9069  0.96755  0.93845   0.9831  0.98605\n",
       "18   0.7245  0.92605  0.98035   0.9493  0.98395   0.9824"
      ]
     },
     "execution_count": 8,
     "metadata": {},
     "output_type": "execute_result"
    }
   ],
   "source": [
    "get_df(results_o1_gen.mean(axis=2), category_trials, exemplar_trials)"
   ]
  },
  {
   "cell_type": "code",
   "execution_count": 9,
   "metadata": {},
   "outputs": [
    {
     "data": {
      "text/html": [
       "<div>\n",
       "<style>\n",
       "    .dataframe thead tr:only-child th {\n",
       "        text-align: right;\n",
       "    }\n",
       "\n",
       "    .dataframe thead th {\n",
       "        text-align: left;\n",
       "    }\n",
       "\n",
       "    .dataframe tbody tr th {\n",
       "        vertical-align: top;\n",
       "    }\n",
       "</style>\n",
       "<table border=\"1\" class=\"dataframe\">\n",
       "  <thead>\n",
       "    <tr style=\"text-align: right;\">\n",
       "      <th></th>\n",
       "      <th>2</th>\n",
       "      <th>4</th>\n",
       "      <th>8</th>\n",
       "      <th>16</th>\n",
       "      <th>32</th>\n",
       "      <th>50</th>\n",
       "    </tr>\n",
       "  </thead>\n",
       "  <tbody>\n",
       "    <tr>\n",
       "      <th>3</th>\n",
       "      <td>0.30515</td>\n",
       "      <td>0.6084</td>\n",
       "      <td>0.5928</td>\n",
       "      <td>0.4752</td>\n",
       "      <td>0.69755</td>\n",
       "      <td>0.71625</td>\n",
       "    </tr>\n",
       "    <tr>\n",
       "      <th>6</th>\n",
       "      <td>0.29635</td>\n",
       "      <td>0.72575</td>\n",
       "      <td>0.7564</td>\n",
       "      <td>0.6771</td>\n",
       "      <td>0.87785</td>\n",
       "      <td>0.9254</td>\n",
       "    </tr>\n",
       "    <tr>\n",
       "      <th>9</th>\n",
       "      <td>0.27765</td>\n",
       "      <td>0.75425</td>\n",
       "      <td>0.75215</td>\n",
       "      <td>0.8141</td>\n",
       "      <td>0.93065</td>\n",
       "      <td>0.93795</td>\n",
       "    </tr>\n",
       "    <tr>\n",
       "      <th>12</th>\n",
       "      <td>0.285</td>\n",
       "      <td>0.79875</td>\n",
       "      <td>0.78255</td>\n",
       "      <td>0.85095</td>\n",
       "      <td>0.938</td>\n",
       "      <td>0.968</td>\n",
       "    </tr>\n",
       "    <tr>\n",
       "      <th>15</th>\n",
       "      <td>0.30505</td>\n",
       "      <td>0.77155</td>\n",
       "      <td>0.80585</td>\n",
       "      <td>0.864</td>\n",
       "      <td>0.9443</td>\n",
       "      <td>0.97155</td>\n",
       "    </tr>\n",
       "    <tr>\n",
       "      <th>18</th>\n",
       "      <td>0.29675</td>\n",
       "      <td>0.7829</td>\n",
       "      <td>0.81</td>\n",
       "      <td>0.8712</td>\n",
       "      <td>0.95775</td>\n",
       "      <td>0.97595</td>\n",
       "    </tr>\n",
       "  </tbody>\n",
       "</table>\n",
       "</div>"
      ],
      "text/plain": [
       "         2        4        8        16       32       50\n",
       "3   0.30515   0.6084   0.5928   0.4752  0.69755  0.71625\n",
       "6   0.29635  0.72575   0.7564   0.6771  0.87785   0.9254\n",
       "9   0.27765  0.75425  0.75215   0.8141  0.93065  0.93795\n",
       "12    0.285  0.79875  0.78255  0.85095    0.938    0.968\n",
       "15  0.30505  0.77155  0.80585    0.864   0.9443  0.97155\n",
       "18  0.29675   0.7829     0.81   0.8712  0.95775  0.97595"
      ]
     },
     "execution_count": 9,
     "metadata": {},
     "output_type": "execute_result"
    }
   ],
   "source": [
    "get_df(results_o2_gen.mean(axis=2), category_trials, exemplar_trials)"
   ]
  },
  {
   "cell_type": "code",
   "execution_count": 10,
   "metadata": {},
   "outputs": [
    {
     "data": {
      "text/html": [
       "<div>\n",
       "<style>\n",
       "    .dataframe thead tr:only-child th {\n",
       "        text-align: right;\n",
       "    }\n",
       "\n",
       "    .dataframe thead th {\n",
       "        text-align: left;\n",
       "    }\n",
       "\n",
       "    .dataframe tbody tr th {\n",
       "        vertical-align: top;\n",
       "    }\n",
       "</style>\n",
       "<table border=\"1\" class=\"dataframe\">\n",
       "  <thead>\n",
       "    <tr style=\"text-align: right;\">\n",
       "      <th></th>\n",
       "      <th>2</th>\n",
       "      <th>4</th>\n",
       "      <th>8</th>\n",
       "      <th>16</th>\n",
       "      <th>32</th>\n",
       "      <th>50</th>\n",
       "    </tr>\n",
       "  </thead>\n",
       "  <tbody>\n",
       "    <tr>\n",
       "      <th>3</th>\n",
       "      <td>0.0309662</td>\n",
       "      <td>0.0593004</td>\n",
       "      <td>0.0850671</td>\n",
       "      <td>0.107753</td>\n",
       "      <td>0.0562994</td>\n",
       "      <td>0.042479</td>\n",
       "    </tr>\n",
       "    <tr>\n",
       "      <th>6</th>\n",
       "      <td>0.0296142</td>\n",
       "      <td>0.0483137</td>\n",
       "      <td>0.0392866</td>\n",
       "      <td>0.0676523</td>\n",
       "      <td>0.0165409</td>\n",
       "      <td>0.0174439</td>\n",
       "    </tr>\n",
       "    <tr>\n",
       "      <th>9</th>\n",
       "      <td>0.0169574</td>\n",
       "      <td>0.0319267</td>\n",
       "      <td>0.0589877</td>\n",
       "      <td>0.0525485</td>\n",
       "      <td>0.0162004</td>\n",
       "      <td>0.02135</td>\n",
       "    </tr>\n",
       "    <tr>\n",
       "      <th>12</th>\n",
       "      <td>0.0332821</td>\n",
       "      <td>0.0434777</td>\n",
       "      <td>0.0523615</td>\n",
       "      <td>0.0703649</td>\n",
       "      <td>0.0126056</td>\n",
       "      <td>0.0128511</td>\n",
       "    </tr>\n",
       "    <tr>\n",
       "      <th>15</th>\n",
       "      <td>0.0298466</td>\n",
       "      <td>0.0229777</td>\n",
       "      <td>0.0583001</td>\n",
       "      <td>0.0641027</td>\n",
       "      <td>0.0168244</td>\n",
       "      <td>0.00759753</td>\n",
       "    </tr>\n",
       "    <tr>\n",
       "      <th>18</th>\n",
       "      <td>0.0246691</td>\n",
       "      <td>0.0307366</td>\n",
       "      <td>0.0416035</td>\n",
       "      <td>0.0519785</td>\n",
       "      <td>0.0122765</td>\n",
       "      <td>0.0105982</td>\n",
       "    </tr>\n",
       "  </tbody>\n",
       "</table>\n",
       "</div>"
      ],
      "text/plain": [
       "           2          4          8          16         32          50\n",
       "3   0.0309662  0.0593004  0.0850671   0.107753  0.0562994    0.042479\n",
       "6   0.0296142  0.0483137  0.0392866  0.0676523  0.0165409   0.0174439\n",
       "9   0.0169574  0.0319267  0.0589877  0.0525485  0.0162004     0.02135\n",
       "12  0.0332821  0.0434777  0.0523615  0.0703649  0.0126056   0.0128511\n",
       "15  0.0298466  0.0229777  0.0583001  0.0641027  0.0168244  0.00759753\n",
       "18  0.0246691  0.0307366  0.0416035  0.0519785  0.0122765   0.0105982"
      ]
     },
     "execution_count": 10,
     "metadata": {},
     "output_type": "execute_result"
    }
   ],
   "source": [
    "get_df(results_o2_gen.std(axis=2), category_trials, exemplar_trials)"
   ]
  },
  {
   "cell_type": "markdown",
   "metadata": {},
   "source": [
    "# Try one more thing with CNN... randomly selected different shapes, colors and textures to use for training at each run"
   ]
  },
  {
   "cell_type": "code",
   "execution_count": 3,
   "metadata": {},
   "outputs": [
    {
     "name": "stdout",
     "output_type": "stream",
     "text": [
      "categories:  [ 2  4  8 16 32 50]\n",
      "exemplars:  [ 3  6  9 12 15 18]\n"
     ]
    }
   ],
   "source": [
    "folder = '../results/cnn_results_combined1/'\n",
    "results_o1_gen = np.load(os.path.join(folder, 'results_o1_gen.npy'))\n",
    "results_o2_gen = np.load(os.path.join(folder, 'results_o2_gen.npy'))\n",
    "category_trials = np.load(os.path.join(folder, 'category_trials.npy'))\n",
    "exemplar_trials = np.load(os.path.join(folder, 'exemplar_trials.npy'))\n",
    "print('categories: ', category_trials)\n",
    "print('exemplars: ', exemplar_trials)"
   ]
  },
  {
   "cell_type": "code",
   "execution_count": 4,
   "metadata": {},
   "outputs": [
    {
     "data": {
      "text/html": [
       "<div>\n",
       "<style>\n",
       "    .dataframe thead tr:only-child th {\n",
       "        text-align: right;\n",
       "    }\n",
       "\n",
       "    .dataframe thead th {\n",
       "        text-align: left;\n",
       "    }\n",
       "\n",
       "    .dataframe tbody tr th {\n",
       "        vertical-align: top;\n",
       "    }\n",
       "</style>\n",
       "<table border=\"1\" class=\"dataframe\">\n",
       "  <thead>\n",
       "    <tr style=\"text-align: right;\">\n",
       "      <th></th>\n",
       "      <th>2</th>\n",
       "      <th>4</th>\n",
       "      <th>8</th>\n",
       "      <th>16</th>\n",
       "      <th>32</th>\n",
       "      <th>50</th>\n",
       "    </tr>\n",
       "  </thead>\n",
       "  <tbody>\n",
       "    <tr>\n",
       "      <th>3</th>\n",
       "      <td>0.5631</td>\n",
       "      <td>0.6555</td>\n",
       "      <td>0.7513</td>\n",
       "      <td>0.7702</td>\n",
       "      <td>0.7896</td>\n",
       "      <td>0.7723</td>\n",
       "    </tr>\n",
       "    <tr>\n",
       "      <th>6</th>\n",
       "      <td>0.6208</td>\n",
       "      <td>0.8397</td>\n",
       "      <td>0.8881</td>\n",
       "      <td>0.9181</td>\n",
       "      <td>0.9312</td>\n",
       "      <td>0.9448</td>\n",
       "    </tr>\n",
       "    <tr>\n",
       "      <th>9</th>\n",
       "      <td>0.6676</td>\n",
       "      <td>0.8438</td>\n",
       "      <td>0.9267</td>\n",
       "      <td>0.9533</td>\n",
       "      <td>0.9586</td>\n",
       "      <td>0.9602</td>\n",
       "    </tr>\n",
       "    <tr>\n",
       "      <th>12</th>\n",
       "      <td>0.6951</td>\n",
       "      <td>0.9084</td>\n",
       "      <td>0.9454</td>\n",
       "      <td>0.9729</td>\n",
       "      <td>0.9733</td>\n",
       "      <td>0</td>\n",
       "    </tr>\n",
       "    <tr>\n",
       "      <th>15</th>\n",
       "      <td>0.6826</td>\n",
       "      <td>0.9081</td>\n",
       "      <td>0.9598</td>\n",
       "      <td>0.9809</td>\n",
       "      <td>0.9797</td>\n",
       "      <td>0</td>\n",
       "    </tr>\n",
       "    <tr>\n",
       "      <th>18</th>\n",
       "      <td>0.7258</td>\n",
       "      <td>0.9179</td>\n",
       "      <td>0.956</td>\n",
       "      <td>0.984</td>\n",
       "      <td>0.9814</td>\n",
       "      <td>0</td>\n",
       "    </tr>\n",
       "  </tbody>\n",
       "</table>\n",
       "</div>"
      ],
      "text/plain": [
       "        2       4       8       16      32      50\n",
       "3   0.5631  0.6555  0.7513  0.7702  0.7896  0.7723\n",
       "6   0.6208  0.8397  0.8881  0.9181  0.9312  0.9448\n",
       "9   0.6676  0.8438  0.9267  0.9533  0.9586  0.9602\n",
       "12  0.6951  0.9084  0.9454  0.9729  0.9733       0\n",
       "15  0.6826  0.9081  0.9598  0.9809  0.9797       0\n",
       "18  0.7258  0.9179   0.956   0.984  0.9814       0"
      ]
     },
     "execution_count": 4,
     "metadata": {},
     "output_type": "execute_result"
    }
   ],
   "source": [
    "get_df(results_o1_gen.mean(axis=2), category_trials, exemplar_trials)"
   ]
  },
  {
   "cell_type": "code",
   "execution_count": 5,
   "metadata": {},
   "outputs": [
    {
     "data": {
      "text/html": [
       "<div>\n",
       "<style>\n",
       "    .dataframe thead tr:only-child th {\n",
       "        text-align: right;\n",
       "    }\n",
       "\n",
       "    .dataframe thead th {\n",
       "        text-align: left;\n",
       "    }\n",
       "\n",
       "    .dataframe tbody tr th {\n",
       "        vertical-align: top;\n",
       "    }\n",
       "</style>\n",
       "<table border=\"1\" class=\"dataframe\">\n",
       "  <thead>\n",
       "    <tr style=\"text-align: right;\">\n",
       "      <th></th>\n",
       "      <th>2</th>\n",
       "      <th>4</th>\n",
       "      <th>8</th>\n",
       "      <th>16</th>\n",
       "      <th>32</th>\n",
       "      <th>50</th>\n",
       "    </tr>\n",
       "  </thead>\n",
       "  <tbody>\n",
       "    <tr>\n",
       "      <th>3</th>\n",
       "      <td>0.3884</td>\n",
       "      <td>0.5161</td>\n",
       "      <td>0.5933</td>\n",
       "      <td>0.6586</td>\n",
       "      <td>0.7395</td>\n",
       "      <td>0.7525</td>\n",
       "    </tr>\n",
       "    <tr>\n",
       "      <th>6</th>\n",
       "      <td>0.4351</td>\n",
       "      <td>0.6422</td>\n",
       "      <td>0.749</td>\n",
       "      <td>0.7968</td>\n",
       "      <td>0.8986</td>\n",
       "      <td>0.9181</td>\n",
       "    </tr>\n",
       "    <tr>\n",
       "      <th>9</th>\n",
       "      <td>0.4298</td>\n",
       "      <td>0.6367</td>\n",
       "      <td>0.8116</td>\n",
       "      <td>0.8781</td>\n",
       "      <td>0.906</td>\n",
       "      <td>0.9429</td>\n",
       "    </tr>\n",
       "    <tr>\n",
       "      <th>12</th>\n",
       "      <td>0.4647</td>\n",
       "      <td>0.6983</td>\n",
       "      <td>0.8214</td>\n",
       "      <td>0.9128</td>\n",
       "      <td>0.9296</td>\n",
       "      <td>0</td>\n",
       "    </tr>\n",
       "    <tr>\n",
       "      <th>15</th>\n",
       "      <td>0.4344</td>\n",
       "      <td>0.6809</td>\n",
       "      <td>0.8591</td>\n",
       "      <td>0.9103</td>\n",
       "      <td>0.952</td>\n",
       "      <td>0</td>\n",
       "    </tr>\n",
       "    <tr>\n",
       "      <th>18</th>\n",
       "      <td>0.4725</td>\n",
       "      <td>0.7618</td>\n",
       "      <td>0.8328</td>\n",
       "      <td>0.8979</td>\n",
       "      <td>0.9449</td>\n",
       "      <td>0</td>\n",
       "    </tr>\n",
       "  </tbody>\n",
       "</table>\n",
       "</div>"
      ],
      "text/plain": [
       "        2       4       8       16      32      50\n",
       "3   0.3884  0.5161  0.5933  0.6586  0.7395  0.7525\n",
       "6   0.4351  0.6422   0.749  0.7968  0.8986  0.9181\n",
       "9   0.4298  0.6367  0.8116  0.8781   0.906  0.9429\n",
       "12  0.4647  0.6983  0.8214  0.9128  0.9296       0\n",
       "15  0.4344  0.6809  0.8591  0.9103   0.952       0\n",
       "18  0.4725  0.7618  0.8328  0.8979  0.9449       0"
      ]
     },
     "execution_count": 5,
     "metadata": {},
     "output_type": "execute_result"
    }
   ],
   "source": [
    "get_df(results_o2_gen.mean(axis=2), category_trials, exemplar_trials)"
   ]
  },
  {
   "cell_type": "code",
   "execution_count": 39,
   "metadata": {},
   "outputs": [
    {
     "data": {
      "text/html": [
       "<div>\n",
       "<style>\n",
       "    .dataframe thead tr:only-child th {\n",
       "        text-align: right;\n",
       "    }\n",
       "\n",
       "    .dataframe thead th {\n",
       "        text-align: left;\n",
       "    }\n",
       "\n",
       "    .dataframe tbody tr th {\n",
       "        vertical-align: top;\n",
       "    }\n",
       "</style>\n",
       "<table border=\"1\" class=\"dataframe\">\n",
       "  <thead>\n",
       "    <tr style=\"text-align: right;\">\n",
       "      <th></th>\n",
       "      <th>2</th>\n",
       "      <th>4</th>\n",
       "      <th>8</th>\n",
       "      <th>16</th>\n",
       "      <th>32</th>\n",
       "      <th>50</th>\n",
       "    </tr>\n",
       "  </thead>\n",
       "  <tbody>\n",
       "    <tr>\n",
       "      <th>3</th>\n",
       "      <td>0.138255</td>\n",
       "      <td>0.153768</td>\n",
       "      <td>0</td>\n",
       "      <td>0</td>\n",
       "      <td>0</td>\n",
       "      <td>0</td>\n",
       "    </tr>\n",
       "    <tr>\n",
       "      <th>6</th>\n",
       "      <td>0.112055</td>\n",
       "      <td>0.126038</td>\n",
       "      <td>0</td>\n",
       "      <td>0</td>\n",
       "      <td>0</td>\n",
       "      <td>0</td>\n",
       "    </tr>\n",
       "    <tr>\n",
       "      <th>9</th>\n",
       "      <td>0.11662</td>\n",
       "      <td>0.121838</td>\n",
       "      <td>0</td>\n",
       "      <td>0</td>\n",
       "      <td>0</td>\n",
       "      <td>0</td>\n",
       "    </tr>\n",
       "    <tr>\n",
       "      <th>12</th>\n",
       "      <td>0.145925</td>\n",
       "      <td>0.0786156</td>\n",
       "      <td>0</td>\n",
       "      <td>0</td>\n",
       "      <td>0</td>\n",
       "      <td>0</td>\n",
       "    </tr>\n",
       "    <tr>\n",
       "      <th>15</th>\n",
       "      <td>0.0927795</td>\n",
       "      <td>0.104557</td>\n",
       "      <td>0</td>\n",
       "      <td>0</td>\n",
       "      <td>0</td>\n",
       "      <td>0</td>\n",
       "    </tr>\n",
       "    <tr>\n",
       "      <th>18</th>\n",
       "      <td>0.106079</td>\n",
       "      <td>0</td>\n",
       "      <td>0</td>\n",
       "      <td>0</td>\n",
       "      <td>0</td>\n",
       "      <td>0</td>\n",
       "    </tr>\n",
       "  </tbody>\n",
       "</table>\n",
       "</div>"
      ],
      "text/plain": [
       "           2          4  8  16 32 50\n",
       "3    0.138255   0.153768  0  0  0  0\n",
       "6    0.112055   0.126038  0  0  0  0\n",
       "9     0.11662   0.121838  0  0  0  0\n",
       "12   0.145925  0.0786156  0  0  0  0\n",
       "15  0.0927795   0.104557  0  0  0  0\n",
       "18   0.106079          0  0  0  0  0"
      ]
     },
     "execution_count": 39,
     "metadata": {},
     "output_type": "execute_result"
    }
   ],
   "source": [
    "get_df(results_o2_gen.std(axis=2), category_trials, exemplar_trials)"
   ]
  },
  {
   "cell_type": "markdown",
   "metadata": {},
   "source": [
    "# MLP results"
   ]
  },
  {
   "cell_type": "code",
   "execution_count": 122,
   "metadata": {},
   "outputs": [
    {
     "name": "stdout",
     "output_type": "stream",
     "text": [
      "categories:  [ 2  4  8 16 32 50]\n",
      "exemplars:  [ 3  6  9 12 15 18]\n"
     ]
    }
   ],
   "source": [
    "folder = '../results/mlp_results_combined/'\n",
    "results_o1_gen = np.load(os.path.join(folder, 'results_o1_gen.npy'))\n",
    "results_o2_gen = np.load(os.path.join(folder, 'results_o2_gen.npy'))\n",
    "category_trials = np.load(os.path.join(folder, 'category_trials.npy'))\n",
    "exemplar_trials = np.load(os.path.join(folder, 'exemplar_trials.npy'))\n",
    "print('categories: ', category_trials)\n",
    "print('exemplars: ', exemplar_trials)"
   ]
  },
  {
   "cell_type": "code",
   "execution_count": 123,
   "metadata": {},
   "outputs": [
    {
     "data": {
      "text/html": [
       "<div>\n",
       "<style>\n",
       "    .dataframe thead tr:only-child th {\n",
       "        text-align: right;\n",
       "    }\n",
       "\n",
       "    .dataframe thead th {\n",
       "        text-align: left;\n",
       "    }\n",
       "\n",
       "    .dataframe tbody tr th {\n",
       "        vertical-align: top;\n",
       "    }\n",
       "</style>\n",
       "<table border=\"1\" class=\"dataframe\">\n",
       "  <thead>\n",
       "    <tr style=\"text-align: right;\">\n",
       "      <th></th>\n",
       "      <th>2</th>\n",
       "      <th>4</th>\n",
       "      <th>8</th>\n",
       "      <th>16</th>\n",
       "      <th>32</th>\n",
       "      <th>50</th>\n",
       "    </tr>\n",
       "  </thead>\n",
       "  <tbody>\n",
       "    <tr>\n",
       "      <th>3</th>\n",
       "      <td>0.862</td>\n",
       "      <td>0.8659</td>\n",
       "      <td>0.7762</td>\n",
       "      <td>0.8436</td>\n",
       "      <td>0.7809</td>\n",
       "      <td>0.7907</td>\n",
       "    </tr>\n",
       "    <tr>\n",
       "      <th>6</th>\n",
       "      <td>0.8719</td>\n",
       "      <td>0.9724</td>\n",
       "      <td>0.9577</td>\n",
       "      <td>0.9204</td>\n",
       "      <td>0.9847</td>\n",
       "      <td>0.993</td>\n",
       "    </tr>\n",
       "    <tr>\n",
       "      <th>9</th>\n",
       "      <td>0.8577</td>\n",
       "      <td>0.967</td>\n",
       "      <td>0.9801</td>\n",
       "      <td>0.982</td>\n",
       "      <td>0.9991</td>\n",
       "      <td>0.9999</td>\n",
       "    </tr>\n",
       "    <tr>\n",
       "      <th>12</th>\n",
       "      <td>0.8753</td>\n",
       "      <td>0.9803</td>\n",
       "      <td>0.9814</td>\n",
       "      <td>0.9929</td>\n",
       "      <td>0.9988</td>\n",
       "      <td>0.9996</td>\n",
       "    </tr>\n",
       "    <tr>\n",
       "      <th>15</th>\n",
       "      <td>0.8431</td>\n",
       "      <td>0.9712</td>\n",
       "      <td>0.9838</td>\n",
       "      <td>0.998</td>\n",
       "      <td>0.9992</td>\n",
       "      <td>0.9997</td>\n",
       "    </tr>\n",
       "    <tr>\n",
       "      <th>18</th>\n",
       "      <td>0.8699</td>\n",
       "      <td>0.9913</td>\n",
       "      <td>0.9961</td>\n",
       "      <td>0.9999</td>\n",
       "      <td>0.9998</td>\n",
       "      <td>0.9988</td>\n",
       "    </tr>\n",
       "  </tbody>\n",
       "</table>\n",
       "</div>"
      ],
      "text/plain": [
       "        2       4       8       16      32      50\n",
       "3    0.862  0.8659  0.7762  0.8436  0.7809  0.7907\n",
       "6   0.8719  0.9724  0.9577  0.9204  0.9847   0.993\n",
       "9   0.8577   0.967  0.9801   0.982  0.9991  0.9999\n",
       "12  0.8753  0.9803  0.9814  0.9929  0.9988  0.9996\n",
       "15  0.8431  0.9712  0.9838   0.998  0.9992  0.9997\n",
       "18  0.8699  0.9913  0.9961  0.9999  0.9998  0.9988"
      ]
     },
     "execution_count": 123,
     "metadata": {},
     "output_type": "execute_result"
    }
   ],
   "source": [
    "get_df(results_o1_gen.mean(axis=2), category_trials, exemplar_trials)"
   ]
  },
  {
   "cell_type": "code",
   "execution_count": 124,
   "metadata": {},
   "outputs": [
    {
     "data": {
      "text/html": [
       "<div>\n",
       "<style>\n",
       "    .dataframe thead tr:only-child th {\n",
       "        text-align: right;\n",
       "    }\n",
       "\n",
       "    .dataframe thead th {\n",
       "        text-align: left;\n",
       "    }\n",
       "\n",
       "    .dataframe tbody tr th {\n",
       "        vertical-align: top;\n",
       "    }\n",
       "</style>\n",
       "<table border=\"1\" class=\"dataframe\">\n",
       "  <thead>\n",
       "    <tr style=\"text-align: right;\">\n",
       "      <th></th>\n",
       "      <th>2</th>\n",
       "      <th>4</th>\n",
       "      <th>8</th>\n",
       "      <th>16</th>\n",
       "      <th>32</th>\n",
       "      <th>50</th>\n",
       "    </tr>\n",
       "  </thead>\n",
       "  <tbody>\n",
       "    <tr>\n",
       "      <th>3</th>\n",
       "      <td>0.5905</td>\n",
       "      <td>0.6482</td>\n",
       "      <td>0.5205</td>\n",
       "      <td>0.7925</td>\n",
       "      <td>0.7146</td>\n",
       "      <td>0.7926</td>\n",
       "    </tr>\n",
       "    <tr>\n",
       "      <th>6</th>\n",
       "      <td>0.6127</td>\n",
       "      <td>0.7834</td>\n",
       "      <td>0.7949</td>\n",
       "      <td>0.8489</td>\n",
       "      <td>0.9762</td>\n",
       "      <td>0.9888</td>\n",
       "    </tr>\n",
       "    <tr>\n",
       "      <th>9</th>\n",
       "      <td>0.6233</td>\n",
       "      <td>0.7947</td>\n",
       "      <td>0.8611</td>\n",
       "      <td>0.9793</td>\n",
       "      <td>0.9992</td>\n",
       "      <td>1</td>\n",
       "    </tr>\n",
       "    <tr>\n",
       "      <th>12</th>\n",
       "      <td>0.5987</td>\n",
       "      <td>0.8422</td>\n",
       "      <td>0.8468</td>\n",
       "      <td>0.9775</td>\n",
       "      <td>1</td>\n",
       "      <td>1</td>\n",
       "    </tr>\n",
       "    <tr>\n",
       "      <th>15</th>\n",
       "      <td>0.5859</td>\n",
       "      <td>0.8153</td>\n",
       "      <td>0.8824</td>\n",
       "      <td>0.9993</td>\n",
       "      <td>1</td>\n",
       "      <td>1</td>\n",
       "    </tr>\n",
       "    <tr>\n",
       "      <th>18</th>\n",
       "      <td>0.6051</td>\n",
       "      <td>0.8733</td>\n",
       "      <td>0.9275</td>\n",
       "      <td>1</td>\n",
       "      <td>1</td>\n",
       "      <td>1</td>\n",
       "    </tr>\n",
       "  </tbody>\n",
       "</table>\n",
       "</div>"
      ],
      "text/plain": [
       "        2       4       8       16      32      50\n",
       "3   0.5905  0.6482  0.5205  0.7925  0.7146  0.7926\n",
       "6   0.6127  0.7834  0.7949  0.8489  0.9762  0.9888\n",
       "9   0.6233  0.7947  0.8611  0.9793  0.9992       1\n",
       "12  0.5987  0.8422  0.8468  0.9775       1       1\n",
       "15  0.5859  0.8153  0.8824  0.9993       1       1\n",
       "18  0.6051  0.8733  0.9275       1       1       1"
      ]
     },
     "execution_count": 124,
     "metadata": {},
     "output_type": "execute_result"
    }
   ],
   "source": [
    "get_df(results_o2_gen.mean(axis=2), category_trials, exemplar_trials)"
   ]
  },
  {
   "cell_type": "code",
   "execution_count": 22,
   "metadata": {},
   "outputs": [
    {
     "name": "stdout",
     "output_type": "stream",
     "text": [
      "categories:  [ 2  4  8 16 32 50]\n",
      "exemplars:  [ 3  6  9 12 15 18]\n"
     ]
    }
   ],
   "source": [
    "# MLP with noise=10%\n",
    "\n",
    "folder = '../results/mlp_results_combined_n10/'\n",
    "results_o1_gen = np.load(os.path.join(folder, 'results_o1_gen.npy'))\n",
    "results_o2_gen = np.load(os.path.join(folder, 'results_o2_gen.npy'))\n",
    "category_trials = np.load(os.path.join(folder, 'category_trials.npy'))\n",
    "exemplar_trials = np.load(os.path.join(folder, 'exemplar_trials.npy'))\n",
    "print('categories: ', category_trials)\n",
    "print('exemplars: ', exemplar_trials)"
   ]
  },
  {
   "cell_type": "code",
   "execution_count": 23,
   "metadata": {},
   "outputs": [
    {
     "data": {
      "text/html": [
       "<div>\n",
       "<style>\n",
       "    .dataframe thead tr:only-child th {\n",
       "        text-align: right;\n",
       "    }\n",
       "\n",
       "    .dataframe thead th {\n",
       "        text-align: left;\n",
       "    }\n",
       "\n",
       "    .dataframe tbody tr th {\n",
       "        vertical-align: top;\n",
       "    }\n",
       "</style>\n",
       "<table border=\"1\" class=\"dataframe\">\n",
       "  <thead>\n",
       "    <tr style=\"text-align: right;\">\n",
       "      <th></th>\n",
       "      <th>2</th>\n",
       "      <th>4</th>\n",
       "      <th>8</th>\n",
       "      <th>16</th>\n",
       "      <th>32</th>\n",
       "      <th>50</th>\n",
       "    </tr>\n",
       "  </thead>\n",
       "  <tbody>\n",
       "    <tr>\n",
       "      <th>3</th>\n",
       "      <td>0.6652</td>\n",
       "      <td>0.7395</td>\n",
       "      <td>0.6622</td>\n",
       "      <td>0.7398</td>\n",
       "      <td>0</td>\n",
       "      <td>0</td>\n",
       "    </tr>\n",
       "    <tr>\n",
       "      <th>6</th>\n",
       "      <td>0.7436</td>\n",
       "      <td>0.8357</td>\n",
       "      <td>0.8242</td>\n",
       "      <td>0.855</td>\n",
       "      <td>0</td>\n",
       "      <td>0</td>\n",
       "    </tr>\n",
       "    <tr>\n",
       "      <th>9</th>\n",
       "      <td>0.7359</td>\n",
       "      <td>0.8611</td>\n",
       "      <td>0.864</td>\n",
       "      <td>0</td>\n",
       "      <td>0</td>\n",
       "      <td>0</td>\n",
       "    </tr>\n",
       "    <tr>\n",
       "      <th>12</th>\n",
       "      <td>0.7636</td>\n",
       "      <td>0.8743</td>\n",
       "      <td>0.8762</td>\n",
       "      <td>0</td>\n",
       "      <td>0</td>\n",
       "      <td>0</td>\n",
       "    </tr>\n",
       "    <tr>\n",
       "      <th>15</th>\n",
       "      <td>0.7554</td>\n",
       "      <td>0.8947</td>\n",
       "      <td>0.8945</td>\n",
       "      <td>0</td>\n",
       "      <td>0</td>\n",
       "      <td>0</td>\n",
       "    </tr>\n",
       "    <tr>\n",
       "      <th>18</th>\n",
       "      <td>0.7687</td>\n",
       "      <td>0.8883</td>\n",
       "      <td>0.8935</td>\n",
       "      <td>0</td>\n",
       "      <td>0</td>\n",
       "      <td>0</td>\n",
       "    </tr>\n",
       "  </tbody>\n",
       "</table>\n",
       "</div>"
      ],
      "text/plain": [
       "        2       4       8       16 32 50\n",
       "3   0.6652  0.7395  0.6622  0.7398  0  0\n",
       "6   0.7436  0.8357  0.8242   0.855  0  0\n",
       "9   0.7359  0.8611   0.864       0  0  0\n",
       "12  0.7636  0.8743  0.8762       0  0  0\n",
       "15  0.7554  0.8947  0.8945       0  0  0\n",
       "18  0.7687  0.8883  0.8935       0  0  0"
      ]
     },
     "execution_count": 23,
     "metadata": {},
     "output_type": "execute_result"
    }
   ],
   "source": [
    "get_df(results_o1_gen.mean(axis=2), category_trials, exemplar_trials)"
   ]
  },
  {
   "cell_type": "code",
   "execution_count": 24,
   "metadata": {},
   "outputs": [
    {
     "data": {
      "text/html": [
       "<div>\n",
       "<style>\n",
       "    .dataframe thead tr:only-child th {\n",
       "        text-align: right;\n",
       "    }\n",
       "\n",
       "    .dataframe thead th {\n",
       "        text-align: left;\n",
       "    }\n",
       "\n",
       "    .dataframe tbody tr th {\n",
       "        vertical-align: top;\n",
       "    }\n",
       "</style>\n",
       "<table border=\"1\" class=\"dataframe\">\n",
       "  <thead>\n",
       "    <tr style=\"text-align: right;\">\n",
       "      <th></th>\n",
       "      <th>2</th>\n",
       "      <th>4</th>\n",
       "      <th>8</th>\n",
       "      <th>16</th>\n",
       "      <th>32</th>\n",
       "      <th>50</th>\n",
       "    </tr>\n",
       "  </thead>\n",
       "  <tbody>\n",
       "    <tr>\n",
       "      <th>3</th>\n",
       "      <td>0.4231</td>\n",
       "      <td>0.5192</td>\n",
       "      <td>0.4491</td>\n",
       "      <td>0.6619</td>\n",
       "      <td>0</td>\n",
       "      <td>0</td>\n",
       "    </tr>\n",
       "    <tr>\n",
       "      <th>6</th>\n",
       "      <td>0.4748</td>\n",
       "      <td>0.5996</td>\n",
       "      <td>0.6256</td>\n",
       "      <td>0.7721</td>\n",
       "      <td>0</td>\n",
       "      <td>0</td>\n",
       "    </tr>\n",
       "    <tr>\n",
       "      <th>9</th>\n",
       "      <td>0.4716</td>\n",
       "      <td>0.6076</td>\n",
       "      <td>0.6877</td>\n",
       "      <td>0</td>\n",
       "      <td>0</td>\n",
       "      <td>0</td>\n",
       "    </tr>\n",
       "    <tr>\n",
       "      <th>12</th>\n",
       "      <td>0.4691</td>\n",
       "      <td>0.5935</td>\n",
       "      <td>0.7021</td>\n",
       "      <td>0</td>\n",
       "      <td>0</td>\n",
       "      <td>0</td>\n",
       "    </tr>\n",
       "    <tr>\n",
       "      <th>15</th>\n",
       "      <td>0.4748</td>\n",
       "      <td>0.6447</td>\n",
       "      <td>0.7099</td>\n",
       "      <td>0</td>\n",
       "      <td>0</td>\n",
       "      <td>0</td>\n",
       "    </tr>\n",
       "    <tr>\n",
       "      <th>18</th>\n",
       "      <td>0.4866</td>\n",
       "      <td>0.6382</td>\n",
       "      <td>0.7519</td>\n",
       "      <td>0</td>\n",
       "      <td>0</td>\n",
       "      <td>0</td>\n",
       "    </tr>\n",
       "  </tbody>\n",
       "</table>\n",
       "</div>"
      ],
      "text/plain": [
       "        2       4       8       16 32 50\n",
       "3   0.4231  0.5192  0.4491  0.6619  0  0\n",
       "6   0.4748  0.5996  0.6256  0.7721  0  0\n",
       "9   0.4716  0.6076  0.6877       0  0  0\n",
       "12  0.4691  0.5935  0.7021       0  0  0\n",
       "15  0.4748  0.6447  0.7099       0  0  0\n",
       "18  0.4866  0.6382  0.7519       0  0  0"
      ]
     },
     "execution_count": 24,
     "metadata": {},
     "output_type": "execute_result"
    }
   ],
   "source": [
    "get_df(results_o2_gen.mean(axis=2), category_trials, exemplar_trials)"
   ]
  },
  {
   "cell_type": "code",
   "execution_count": null,
   "metadata": {
    "collapsed": true
   },
   "outputs": [],
   "source": []
  }
 ],
 "metadata": {
  "kernelspec": {
   "display_name": "Python 3",
   "language": "python",
   "name": "python3"
  },
  "language_info": {
   "codemirror_mode": {
    "name": "ipython",
    "version": 3
   },
   "file_extension": ".py",
   "mimetype": "text/x-python",
   "name": "python",
   "nbconvert_exporter": "python",
   "pygments_lexer": "ipython3",
   "version": "3.6.1"
  }
 },
 "nbformat": 4,
 "nbformat_minor": 2
}
